{
 "cells": [
  {
   "cell_type": "markdown",
   "metadata": {},
   "source": [
    "# Train Test the Optimum Model and Predict Hold Out Data"
   ]
  },
  {
   "cell_type": "markdown",
   "metadata": {},
   "source": [
    "___"
   ]
  },
  {
   "cell_type": "markdown",
   "metadata": {},
   "source": [
    "# Import library and Data Setup\n",
    "Import necessary library\n",
    "\n",
    "**Setup the training data and testing data set**\n",
    "\n",
    "The train.csv and test.csv were split using [export_train_test_set.ipynb](https://github.com/cmxteng/aiforsea-traffic-management/blob/master/export_train_test_set.ipynb) \n",
    "\n",
    "It is split into 25% test dataset and 75% train dataset."
   ]
  },
  {
   "cell_type": "code",
   "execution_count": 1,
   "metadata": {},
   "outputs": [],
   "source": [
    "import numpy as np\n",
    "import pandas as pd\n",
    "from matplotlib import pyplot as plt\n",
    "import math\n",
    "from sklearn.model_selection import cross_val_score\n",
    "from sklearn import metrics\n",
    "from sklearn.model_selection import GridSearchCV\n",
    "\n",
    "%matplotlib inline"
   ]
  },
  {
   "cell_type": "code",
   "execution_count": 2,
   "metadata": {},
   "outputs": [],
   "source": [
    "import seaborn as sns\n",
    "sns.set_style('whitegrid')"
   ]
  },
  {
   "cell_type": "markdown",
   "metadata": {},
   "source": [
    "### Get the Data\n",
    "\n",
    "**Read in the training csv file and Hold-out test csv file as a DataFrame called trainset and testset respectively.**"
   ]
  },
  {
   "cell_type": "code",
   "execution_count": 3,
   "metadata": {},
   "outputs": [],
   "source": [
    "trainset = pd.read_csv('train60_075.csv')"
   ]
  },
  {
   "cell_type": "code",
   "execution_count": 4,
   "metadata": {},
   "outputs": [],
   "source": [
    "testset = pd.read_csv('test60_025.csv')"
   ]
  },
  {
   "cell_type": "code",
   "execution_count": 5,
   "metadata": {},
   "outputs": [
    {
     "name": "stdout",
     "output_type": "stream",
     "text": [
      "<class 'pandas.core.frame.DataFrame'>\n",
      "RangeIndex: 3306164 entries, 0 to 3306163\n",
      "Data columns (total 4 columns):\n",
      "geohash6     object\n",
      "day          int64\n",
      "timestamp    object\n",
      "demand       float64\n",
      "dtypes: float64(1), int64(1), object(2)\n",
      "memory usage: 100.9+ MB\n"
     ]
    }
   ],
   "source": [
    "trainset.info()"
   ]
  },
  {
   "cell_type": "code",
   "execution_count": 6,
   "metadata": {},
   "outputs": [
    {
     "name": "stdout",
     "output_type": "stream",
     "text": [
      "<class 'pandas.core.frame.DataFrame'>\n",
      "RangeIndex: 826542 entries, 0 to 826541\n",
      "Data columns (total 4 columns):\n",
      "geohash6     826542 non-null object\n",
      "day          826542 non-null int64\n",
      "timestamp    826542 non-null object\n",
      "demand       826542 non-null float64\n",
      "dtypes: float64(1), int64(1), object(2)\n",
      "memory usage: 25.2+ MB\n"
     ]
    }
   ],
   "source": [
    "testset.info()"
   ]
  },
  {
   "cell_type": "code",
   "execution_count": 7,
   "metadata": {},
   "outputs": [
    {
     "data": {
      "text/plain": [
       "False"
      ]
     },
     "execution_count": 7,
     "metadata": {},
     "output_type": "execute_result"
    }
   ],
   "source": [
    "trainset.isnull().values.any()"
   ]
  },
  {
   "cell_type": "code",
   "execution_count": 8,
   "metadata": {},
   "outputs": [
    {
     "data": {
      "text/plain": [
       "False"
      ]
     },
     "execution_count": 8,
     "metadata": {},
     "output_type": "execute_result"
    }
   ],
   "source": [
    "testset.isnull().values.any()"
   ]
  },
  {
   "cell_type": "markdown",
   "metadata": {},
   "source": [
    "### Convert timestamp to time (in hour format) in float\n",
    "* 15 minute: 0.25 hour\n",
    "* 30 minute: 0.50 hour\n",
    "* 45 minute: 0.75 hour"
   ]
  },
  {
   "cell_type": "code",
   "execution_count": 9,
   "metadata": {},
   "outputs": [],
   "source": [
    "# extract hour and minute from timestamp column for trainset\n",
    "trainset[['hour','min']] = trainset['timestamp'].str.split(':',expand=True).astype('int64')\n",
    "trainset['time'] = trainset['hour']+(trainset['min']/60.0)"
   ]
  },
  {
   "cell_type": "code",
   "execution_count": 10,
   "metadata": {},
   "outputs": [],
   "source": [
    "# extract hour and minute from timestamp column for testset\n",
    "testset[['hour','min']] = testset['timestamp'].str.split(':',expand=True).astype('int64')\n",
    "testset['time'] = testset['hour']+(testset['min']/60.0)"
   ]
  },
  {
   "cell_type": "code",
   "execution_count": 11,
   "metadata": {
    "scrolled": true
   },
   "outputs": [
    {
     "data": {
      "text/html": [
       "<div>\n",
       "<style scoped>\n",
       "    .dataframe tbody tr th:only-of-type {\n",
       "        vertical-align: middle;\n",
       "    }\n",
       "\n",
       "    .dataframe tbody tr th {\n",
       "        vertical-align: top;\n",
       "    }\n",
       "\n",
       "    .dataframe thead th {\n",
       "        text-align: right;\n",
       "    }\n",
       "</style>\n",
       "<table border=\"1\" class=\"dataframe\">\n",
       "  <thead>\n",
       "    <tr style=\"text-align: right;\">\n",
       "      <th></th>\n",
       "      <th>geohash6</th>\n",
       "      <th>day</th>\n",
       "      <th>timestamp</th>\n",
       "      <th>demand</th>\n",
       "      <th>hour</th>\n",
       "      <th>min</th>\n",
       "      <th>time</th>\n",
       "    </tr>\n",
       "  </thead>\n",
       "  <tbody>\n",
       "    <tr>\n",
       "      <th>0</th>\n",
       "      <td>qp096z</td>\n",
       "      <td>35</td>\n",
       "      <td>20:45</td>\n",
       "      <td>0.105622</td>\n",
       "      <td>20</td>\n",
       "      <td>45</td>\n",
       "      <td>20.75</td>\n",
       "    </tr>\n",
       "    <tr>\n",
       "      <th>1</th>\n",
       "      <td>qp03nx</td>\n",
       "      <td>32</td>\n",
       "      <td>10:30</td>\n",
       "      <td>0.081468</td>\n",
       "      <td>10</td>\n",
       "      <td>30</td>\n",
       "      <td>10.50</td>\n",
       "    </tr>\n",
       "    <tr>\n",
       "      <th>2</th>\n",
       "      <td>qp03zt</td>\n",
       "      <td>40</td>\n",
       "      <td>2:45</td>\n",
       "      <td>0.221554</td>\n",
       "      <td>2</td>\n",
       "      <td>45</td>\n",
       "      <td>2.75</td>\n",
       "    </tr>\n",
       "    <tr>\n",
       "      <th>3</th>\n",
       "      <td>qp09kt</td>\n",
       "      <td>13</td>\n",
       "      <td>6:45</td>\n",
       "      <td>0.038832</td>\n",
       "      <td>6</td>\n",
       "      <td>45</td>\n",
       "      <td>6.75</td>\n",
       "    </tr>\n",
       "    <tr>\n",
       "      <th>4</th>\n",
       "      <td>qp0djm</td>\n",
       "      <td>38</td>\n",
       "      <td>2:30</td>\n",
       "      <td>0.046513</td>\n",
       "      <td>2</td>\n",
       "      <td>30</td>\n",
       "      <td>2.50</td>\n",
       "    </tr>\n",
       "  </tbody>\n",
       "</table>\n",
       "</div>"
      ],
      "text/plain": [
       "  geohash6  day timestamp    demand  hour  min   time\n",
       "0   qp096z   35     20:45  0.105622    20   45  20.75\n",
       "1   qp03nx   32     10:30  0.081468    10   30  10.50\n",
       "2   qp03zt   40      2:45  0.221554     2   45   2.75\n",
       "3   qp09kt   13      6:45  0.038832     6   45   6.75\n",
       "4   qp0djm   38      2:30  0.046513     2   30   2.50"
      ]
     },
     "execution_count": 11,
     "metadata": {},
     "output_type": "execute_result"
    }
   ],
   "source": [
    "trainset.head()"
   ]
  },
  {
   "cell_type": "code",
   "execution_count": 12,
   "metadata": {},
   "outputs": [
    {
     "data": {
      "text/html": [
       "<div>\n",
       "<style scoped>\n",
       "    .dataframe tbody tr th:only-of-type {\n",
       "        vertical-align: middle;\n",
       "    }\n",
       "\n",
       "    .dataframe tbody tr th {\n",
       "        vertical-align: top;\n",
       "    }\n",
       "\n",
       "    .dataframe thead th {\n",
       "        text-align: right;\n",
       "    }\n",
       "</style>\n",
       "<table border=\"1\" class=\"dataframe\">\n",
       "  <thead>\n",
       "    <tr style=\"text-align: right;\">\n",
       "      <th></th>\n",
       "      <th>geohash6</th>\n",
       "      <th>day</th>\n",
       "      <th>timestamp</th>\n",
       "      <th>demand</th>\n",
       "      <th>hour</th>\n",
       "      <th>min</th>\n",
       "      <th>time</th>\n",
       "    </tr>\n",
       "  </thead>\n",
       "  <tbody>\n",
       "    <tr>\n",
       "      <th>0</th>\n",
       "      <td>qp09cu</td>\n",
       "      <td>47</td>\n",
       "      <td>9:30</td>\n",
       "      <td>0.021819</td>\n",
       "      <td>9</td>\n",
       "      <td>30</td>\n",
       "      <td>9.50</td>\n",
       "    </tr>\n",
       "    <tr>\n",
       "      <th>1</th>\n",
       "      <td>qp03mr</td>\n",
       "      <td>19</td>\n",
       "      <td>1:45</td>\n",
       "      <td>0.001785</td>\n",
       "      <td>1</td>\n",
       "      <td>45</td>\n",
       "      <td>1.75</td>\n",
       "    </tr>\n",
       "    <tr>\n",
       "      <th>2</th>\n",
       "      <td>qp09ds</td>\n",
       "      <td>30</td>\n",
       "      <td>7:45</td>\n",
       "      <td>0.007478</td>\n",
       "      <td>7</td>\n",
       "      <td>45</td>\n",
       "      <td>7.75</td>\n",
       "    </tr>\n",
       "    <tr>\n",
       "      <th>3</th>\n",
       "      <td>qp093v</td>\n",
       "      <td>37</td>\n",
       "      <td>22:0</td>\n",
       "      <td>0.013631</td>\n",
       "      <td>22</td>\n",
       "      <td>0</td>\n",
       "      <td>22.00</td>\n",
       "    </tr>\n",
       "    <tr>\n",
       "      <th>4</th>\n",
       "      <td>qp09b0</td>\n",
       "      <td>50</td>\n",
       "      <td>3:0</td>\n",
       "      <td>0.158475</td>\n",
       "      <td>3</td>\n",
       "      <td>0</td>\n",
       "      <td>3.00</td>\n",
       "    </tr>\n",
       "  </tbody>\n",
       "</table>\n",
       "</div>"
      ],
      "text/plain": [
       "  geohash6  day timestamp    demand  hour  min   time\n",
       "0   qp09cu   47      9:30  0.021819     9   30   9.50\n",
       "1   qp03mr   19      1:45  0.001785     1   45   1.75\n",
       "2   qp09ds   30      7:45  0.007478     7   45   7.75\n",
       "3   qp093v   37      22:0  0.013631    22    0  22.00\n",
       "4   qp09b0   50       3:0  0.158475     3    0   3.00"
      ]
     },
     "execution_count": 12,
     "metadata": {},
     "output_type": "execute_result"
    }
   ],
   "source": [
    "testset.head()"
   ]
  },
  {
   "cell_type": "markdown",
   "metadata": {},
   "source": [
    "### Decode Geohash6"
   ]
  },
  {
   "cell_type": "code",
   "execution_count": 13,
   "metadata": {},
   "outputs": [],
   "source": [
    "import geohash"
   ]
  },
  {
   "cell_type": "code",
   "execution_count": 14,
   "metadata": {},
   "outputs": [],
   "source": [
    "trainset['coordinate'] = trainset.geohash6.apply(lambda c: geohash.decode(c))\n",
    "\n",
    "trainset['coordinate'].tolist()\n",
    "trainset[['latitude', 'longitude']] = pd.DataFrame(trainset['coordinate'].tolist(), index=trainset.index)"
   ]
  },
  {
   "cell_type": "code",
   "execution_count": 15,
   "metadata": {},
   "outputs": [],
   "source": [
    "testset['coordinate'] = testset.geohash6.apply(lambda c: geohash.decode(c))\n",
    "\n",
    "testset['coordinate'].tolist()\n",
    "testset[['latitude', 'longitude']] = pd.DataFrame(testset['coordinate'].tolist(), index=testset.index)"
   ]
  },
  {
   "cell_type": "code",
   "execution_count": 16,
   "metadata": {},
   "outputs": [
    {
     "name": "stdout",
     "output_type": "stream",
     "text": [
      "<class 'pandas.core.frame.DataFrame'>\n",
      "RangeIndex: 3306164 entries, 0 to 3306163\n",
      "Data columns (total 10 columns):\n",
      "geohash6      object\n",
      "day           int64\n",
      "timestamp     object\n",
      "demand        float64\n",
      "hour          int64\n",
      "min           int64\n",
      "time          float64\n",
      "coordinate    object\n",
      "latitude      float64\n",
      "longitude     float64\n",
      "dtypes: float64(4), int64(3), object(3)\n",
      "memory usage: 252.2+ MB\n"
     ]
    }
   ],
   "source": [
    "trainset.info()"
   ]
  },
  {
   "cell_type": "code",
   "execution_count": 17,
   "metadata": {},
   "outputs": [
    {
     "name": "stdout",
     "output_type": "stream",
     "text": [
      "<class 'pandas.core.frame.DataFrame'>\n",
      "RangeIndex: 826542 entries, 0 to 826541\n",
      "Data columns (total 10 columns):\n",
      "geohash6      826542 non-null object\n",
      "day           826542 non-null int64\n",
      "timestamp     826542 non-null object\n",
      "demand        826542 non-null float64\n",
      "hour          826542 non-null int64\n",
      "min           826542 non-null int64\n",
      "time          826542 non-null float64\n",
      "coordinate    826542 non-null object\n",
      "latitude      826542 non-null float64\n",
      "longitude     826542 non-null float64\n",
      "dtypes: float64(4), int64(3), object(3)\n",
      "memory usage: 63.1+ MB\n"
     ]
    }
   ],
   "source": [
    "testset.info()"
   ]
  },
  {
   "cell_type": "code",
   "execution_count": 18,
   "metadata": {},
   "outputs": [
    {
     "data": {
      "text/html": [
       "<div>\n",
       "<style scoped>\n",
       "    .dataframe tbody tr th:only-of-type {\n",
       "        vertical-align: middle;\n",
       "    }\n",
       "\n",
       "    .dataframe tbody tr th {\n",
       "        vertical-align: top;\n",
       "    }\n",
       "\n",
       "    .dataframe thead th {\n",
       "        text-align: right;\n",
       "    }\n",
       "</style>\n",
       "<table border=\"1\" class=\"dataframe\">\n",
       "  <thead>\n",
       "    <tr style=\"text-align: right;\">\n",
       "      <th></th>\n",
       "      <th>day</th>\n",
       "      <th>demand</th>\n",
       "      <th>hour</th>\n",
       "      <th>min</th>\n",
       "      <th>time</th>\n",
       "      <th>latitude</th>\n",
       "      <th>longitude</th>\n",
       "    </tr>\n",
       "  </thead>\n",
       "  <tbody>\n",
       "    <tr>\n",
       "      <th>day</th>\n",
       "      <td>1.000000</td>\n",
       "      <td>0.023104</td>\n",
       "      <td>0.000618</td>\n",
       "      <td>-0.000009</td>\n",
       "      <td>0.000617</td>\n",
       "      <td>-0.003383</td>\n",
       "      <td>0.009859</td>\n",
       "    </tr>\n",
       "    <tr>\n",
       "      <th>demand</th>\n",
       "      <td>0.023104</td>\n",
       "      <td>1.000000</td>\n",
       "      <td>-0.085214</td>\n",
       "      <td>-0.002767</td>\n",
       "      <td>-0.085246</td>\n",
       "      <td>-0.021967</td>\n",
       "      <td>-0.032511</td>\n",
       "    </tr>\n",
       "    <tr>\n",
       "      <th>hour</th>\n",
       "      <td>0.000618</td>\n",
       "      <td>-0.085214</td>\n",
       "      <td>1.000000</td>\n",
       "      <td>0.002470</td>\n",
       "      <td>0.999088</td>\n",
       "      <td>0.023687</td>\n",
       "      <td>-0.080338</td>\n",
       "    </tr>\n",
       "    <tr>\n",
       "      <th>min</th>\n",
       "      <td>-0.000009</td>\n",
       "      <td>-0.002767</td>\n",
       "      <td>0.002470</td>\n",
       "      <td>1.000000</td>\n",
       "      <td>0.045171</td>\n",
       "      <td>-0.000539</td>\n",
       "      <td>-0.000340</td>\n",
       "    </tr>\n",
       "    <tr>\n",
       "      <th>time</th>\n",
       "      <td>0.000617</td>\n",
       "      <td>-0.085246</td>\n",
       "      <td>0.999088</td>\n",
       "      <td>0.045171</td>\n",
       "      <td>1.000000</td>\n",
       "      <td>0.023640</td>\n",
       "      <td>-0.080271</td>\n",
       "    </tr>\n",
       "    <tr>\n",
       "      <th>latitude</th>\n",
       "      <td>-0.003383</td>\n",
       "      <td>-0.021967</td>\n",
       "      <td>0.023687</td>\n",
       "      <td>-0.000539</td>\n",
       "      <td>0.023640</td>\n",
       "      <td>1.000000</td>\n",
       "      <td>0.139861</td>\n",
       "    </tr>\n",
       "    <tr>\n",
       "      <th>longitude</th>\n",
       "      <td>0.009859</td>\n",
       "      <td>-0.032511</td>\n",
       "      <td>-0.080338</td>\n",
       "      <td>-0.000340</td>\n",
       "      <td>-0.080271</td>\n",
       "      <td>0.139861</td>\n",
       "      <td>1.000000</td>\n",
       "    </tr>\n",
       "  </tbody>\n",
       "</table>\n",
       "</div>"
      ],
      "text/plain": [
       "                day    demand      hour       min      time  latitude  \\\n",
       "day        1.000000  0.023104  0.000618 -0.000009  0.000617 -0.003383   \n",
       "demand     0.023104  1.000000 -0.085214 -0.002767 -0.085246 -0.021967   \n",
       "hour       0.000618 -0.085214  1.000000  0.002470  0.999088  0.023687   \n",
       "min       -0.000009 -0.002767  0.002470  1.000000  0.045171 -0.000539   \n",
       "time       0.000617 -0.085246  0.999088  0.045171  1.000000  0.023640   \n",
       "latitude  -0.003383 -0.021967  0.023687 -0.000539  0.023640  1.000000   \n",
       "longitude  0.009859 -0.032511 -0.080338 -0.000340 -0.080271  0.139861   \n",
       "\n",
       "           longitude  \n",
       "day         0.009859  \n",
       "demand     -0.032511  \n",
       "hour       -0.080338  \n",
       "min        -0.000340  \n",
       "time       -0.080271  \n",
       "latitude    0.139861  \n",
       "longitude   1.000000  "
      ]
     },
     "execution_count": 18,
     "metadata": {},
     "output_type": "execute_result"
    }
   ],
   "source": [
    "trainset.corr()"
   ]
  },
  {
   "cell_type": "code",
   "execution_count": 19,
   "metadata": {},
   "outputs": [
    {
     "data": {
      "text/html": [
       "<div>\n",
       "<style scoped>\n",
       "    .dataframe tbody tr th:only-of-type {\n",
       "        vertical-align: middle;\n",
       "    }\n",
       "\n",
       "    .dataframe tbody tr th {\n",
       "        vertical-align: top;\n",
       "    }\n",
       "\n",
       "    .dataframe thead th {\n",
       "        text-align: right;\n",
       "    }\n",
       "</style>\n",
       "<table border=\"1\" class=\"dataframe\">\n",
       "  <thead>\n",
       "    <tr style=\"text-align: right;\">\n",
       "      <th></th>\n",
       "      <th>day</th>\n",
       "      <th>demand</th>\n",
       "      <th>hour</th>\n",
       "      <th>min</th>\n",
       "      <th>time</th>\n",
       "      <th>latitude</th>\n",
       "      <th>longitude</th>\n",
       "    </tr>\n",
       "  </thead>\n",
       "  <tbody>\n",
       "    <tr>\n",
       "      <th>day</th>\n",
       "      <td>1.000000</td>\n",
       "      <td>0.022989</td>\n",
       "      <td>0.001442</td>\n",
       "      <td>0.001068</td>\n",
       "      <td>0.001486</td>\n",
       "      <td>-0.004502</td>\n",
       "      <td>0.009469</td>\n",
       "    </tr>\n",
       "    <tr>\n",
       "      <th>demand</th>\n",
       "      <td>0.022989</td>\n",
       "      <td>1.000000</td>\n",
       "      <td>-0.084338</td>\n",
       "      <td>-0.002538</td>\n",
       "      <td>-0.084358</td>\n",
       "      <td>-0.019351</td>\n",
       "      <td>-0.032456</td>\n",
       "    </tr>\n",
       "    <tr>\n",
       "      <th>hour</th>\n",
       "      <td>0.001442</td>\n",
       "      <td>-0.084338</td>\n",
       "      <td>1.000000</td>\n",
       "      <td>0.003143</td>\n",
       "      <td>0.999089</td>\n",
       "      <td>0.023482</td>\n",
       "      <td>-0.079005</td>\n",
       "    </tr>\n",
       "    <tr>\n",
       "      <th>min</th>\n",
       "      <td>0.001068</td>\n",
       "      <td>-0.002538</td>\n",
       "      <td>0.003143</td>\n",
       "      <td>1.000000</td>\n",
       "      <td>0.045815</td>\n",
       "      <td>0.000575</td>\n",
       "      <td>-0.000453</td>\n",
       "    </tr>\n",
       "    <tr>\n",
       "      <th>time</th>\n",
       "      <td>0.001486</td>\n",
       "      <td>-0.084358</td>\n",
       "      <td>0.999089</td>\n",
       "      <td>0.045815</td>\n",
       "      <td>1.000000</td>\n",
       "      <td>0.023482</td>\n",
       "      <td>-0.078942</td>\n",
       "    </tr>\n",
       "    <tr>\n",
       "      <th>latitude</th>\n",
       "      <td>-0.004502</td>\n",
       "      <td>-0.019351</td>\n",
       "      <td>0.023482</td>\n",
       "      <td>0.000575</td>\n",
       "      <td>0.023482</td>\n",
       "      <td>1.000000</td>\n",
       "      <td>0.139317</td>\n",
       "    </tr>\n",
       "    <tr>\n",
       "      <th>longitude</th>\n",
       "      <td>0.009469</td>\n",
       "      <td>-0.032456</td>\n",
       "      <td>-0.079005</td>\n",
       "      <td>-0.000453</td>\n",
       "      <td>-0.078942</td>\n",
       "      <td>0.139317</td>\n",
       "      <td>1.000000</td>\n",
       "    </tr>\n",
       "  </tbody>\n",
       "</table>\n",
       "</div>"
      ],
      "text/plain": [
       "                day    demand      hour       min      time  latitude  \\\n",
       "day        1.000000  0.022989  0.001442  0.001068  0.001486 -0.004502   \n",
       "demand     0.022989  1.000000 -0.084338 -0.002538 -0.084358 -0.019351   \n",
       "hour       0.001442 -0.084338  1.000000  0.003143  0.999089  0.023482   \n",
       "min        0.001068 -0.002538  0.003143  1.000000  0.045815  0.000575   \n",
       "time       0.001486 -0.084358  0.999089  0.045815  1.000000  0.023482   \n",
       "latitude  -0.004502 -0.019351  0.023482  0.000575  0.023482  1.000000   \n",
       "longitude  0.009469 -0.032456 -0.079005 -0.000453 -0.078942  0.139317   \n",
       "\n",
       "           longitude  \n",
       "day         0.009469  \n",
       "demand     -0.032456  \n",
       "hour       -0.079005  \n",
       "min        -0.000453  \n",
       "time       -0.078942  \n",
       "latitude    0.139317  \n",
       "longitude   1.000000  "
      ]
     },
     "execution_count": 19,
     "metadata": {},
     "output_type": "execute_result"
    }
   ],
   "source": [
    "testset.corr()"
   ]
  },
  {
   "cell_type": "markdown",
   "metadata": {},
   "source": [
    "  "
   ]
  },
  {
   "cell_type": "markdown",
   "metadata": {},
   "source": [
    "___"
   ]
  },
  {
   "cell_type": "markdown",
   "metadata": {},
   "source": [
    "## Setting up the Train Test Data\n",
    "\n",
    "**Get data ready for the regression models.**\n",
    "\n",
    "\n",
    "Check data info again"
   ]
  },
  {
   "cell_type": "code",
   "execution_count": 20,
   "metadata": {},
   "outputs": [],
   "source": [
    "X_train = trainset[['time','day','latitude','longitude']].values\n",
    "y_train = trainset['demand'].values"
   ]
  },
  {
   "cell_type": "code",
   "execution_count": 21,
   "metadata": {},
   "outputs": [],
   "source": [
    "X_test = testset[['time','day','latitude','longitude']].values\n",
    "y_test = testset['demand'].values"
   ]
  },
  {
   "cell_type": "code",
   "execution_count": 22,
   "metadata": {},
   "outputs": [
    {
     "name": "stdout",
     "output_type": "stream",
     "text": [
      "(3306164, 4)\n",
      "(3306164,)\n"
     ]
    }
   ],
   "source": [
    "print(X_train.shape)\n",
    "print(y_train.shape)"
   ]
  },
  {
   "cell_type": "code",
   "execution_count": 23,
   "metadata": {},
   "outputs": [
    {
     "name": "stdout",
     "output_type": "stream",
     "text": [
      "(826542, 4)\n",
      "(826542,)\n"
     ]
    }
   ],
   "source": [
    "print(X_test.shape)\n",
    "print(y_test.shape)"
   ]
  },
  {
   "cell_type": "markdown",
   "metadata": {},
   "source": [
    "___"
   ]
  },
  {
   "cell_type": "markdown",
   "metadata": {},
   "source": [
    "# Random Forest Model"
   ]
  },
  {
   "cell_type": "markdown",
   "metadata": {},
   "source": [
    "## New Random Forest Model"
   ]
  },
  {
   "cell_type": "markdown",
   "metadata": {},
   "source": [
    "Set up a new parameter for the new random forest model based on the grid search, **n_estimator =30**, **max_depth = 80** and **min_samples_leaf = 2**."
   ]
  },
  {
   "cell_type": "code",
   "execution_count": 27,
   "metadata": {},
   "outputs": [],
   "source": [
    "from sklearn.ensemble import RandomForestRegressor"
   ]
  },
  {
   "cell_type": "code",
   "execution_count": 28,
   "metadata": {},
   "outputs": [],
   "source": [
    "new_forest = RandomForestRegressor(n_estimators=30,max_depth=80,min_samples_leaf=2, n_jobs= -1)"
   ]
  },
  {
   "cell_type": "code",
   "execution_count": 29,
   "metadata": {},
   "outputs": [
    {
     "data": {
      "text/plain": [
       "RandomForestRegressor(bootstrap=True, criterion='mse', max_depth=80,\n",
       "           max_features='auto', max_leaf_nodes=None,\n",
       "           min_impurity_decrease=0.0, min_impurity_split=None,\n",
       "           min_samples_leaf=2, min_samples_split=2,\n",
       "           min_weight_fraction_leaf=0.0, n_estimators=30, n_jobs=-1,\n",
       "           oob_score=False, random_state=None, verbose=0, warm_start=False)"
      ]
     },
     "execution_count": 29,
     "metadata": {},
     "output_type": "execute_result"
    }
   ],
   "source": [
    "new_forest.fit(X_train, y_train)"
   ]
  },
  {
   "cell_type": "markdown",
   "metadata": {},
   "source": [
    "### Cross Validation for new Random Forest model"
   ]
  },
  {
   "cell_type": "code",
   "execution_count": 17,
   "metadata": {},
   "outputs": [],
   "source": [
    "from sklearn.model_selection import cross_val_score"
   ]
  },
  {
   "cell_type": "code",
   "execution_count": 24,
   "metadata": {
    "scrolled": true
   },
   "outputs": [],
   "source": [
    "new_scores_rfr = cross_val_score(new_forest, X_train, y_train, cv=10, scoring='explained_variance')"
   ]
  },
  {
   "cell_type": "code",
   "execution_count": 23,
   "metadata": {},
   "outputs": [
    {
     "name": "stdout",
     "output_type": "stream",
     "text": [
      "Scores for k=10 fold validation: [0.84746725 0.74074462 0.75701145 0.81404575 0.81099208 0.85346711\n",
      " 0.83748028 0.78328248 0.77225433 0.80119644]\n",
      "Estimated EV: 0.8018 (+/- 0.7270)\n"
     ]
    }
   ],
   "source": [
    "print('Scores for k=10 fold validation:',new_scores_rfr)\n",
    "print(\"Estimated EV: %0.4f (+/- %0.4f)\" % (new_scores_rfr.mean(), new_scores_rfr.std() * 2))"
   ]
  },
  {
   "cell_type": "code",
   "execution_count": 18,
   "metadata": {},
   "outputs": [],
   "source": [
    "new_rmse_rfr = cross_val_score(new_forest, X_train, y_train, cv=10,scoring='neg_mean_squared_error')"
   ]
  },
  {
   "cell_type": "code",
   "execution_count": 19,
   "metadata": {},
   "outputs": [
    {
     "name": "stdout",
     "output_type": "stream",
     "text": [
      "Scores for k=10 fold validation: [-0.00394365 -0.00680675 -0.006464   -0.00476699 -0.00505391 -0.00392782\n",
      " -0.00463169 -0.00566412 -0.00736383 -0.00627875]\n",
      "RMSE: -0.0055 (+/- 0.0023)\n"
     ]
    }
   ],
   "source": [
    "print('Scores for k=10 fold validation:',new_rmse_rfr)\n",
    "print(\"MSE: %0.4f (+/- %0.4f)\" % (new_rmse_rfr.mean(), new_rmse_rfr.std() * 2))"
   ]
  },
  {
   "cell_type": "code",
   "execution_count": 23,
   "metadata": {},
   "outputs": [
    {
     "data": {
      "text/plain": [
       "0.0740955552641079"
      ]
     },
     "execution_count": 23,
     "metadata": {},
     "output_type": "execute_result"
    }
   ],
   "source": [
    "math.sqrt(-(new_rmse_rfr.mean()))"
   ]
  },
  {
   "cell_type": "markdown",
   "metadata": {},
   "source": [
    "### New Prediction for New Random Forest test dataset"
   ]
  },
  {
   "cell_type": "code",
   "execution_count": 30,
   "metadata": {},
   "outputs": [
    {
     "name": "stdout",
     "output_type": "stream",
     "text": [
      "0.9597607166170052\n"
     ]
    }
   ],
   "source": [
    "# Predicting a random forest result\n",
    "new_forest_pred = new_forest.predict(X_test)\n",
    "new_forest_score = new_forest.score(X_test, y_test)\n",
    "print(new_forest_score)"
   ]
  },
  {
   "cell_type": "code",
   "execution_count": 31,
   "metadata": {
    "scrolled": true
   },
   "outputs": [
    {
     "name": "stdout",
     "output_type": "stream",
     "text": [
      "MAE: 0.020514490964067184\n",
      "MSE: 0.0010255407845916633\n",
      "RMSE: 0.03202406570989485\n"
     ]
    }
   ],
   "source": [
    "# calculate forest MAE, MSE, RMSE!\n",
    "from sklearn import metrics\n",
    "print('MAE:', metrics.mean_absolute_error(y_test, new_forest_pred))\n",
    "print('MSE:', metrics.mean_squared_error(y_test, new_forest_pred))\n",
    "print('RMSE:', np.sqrt(metrics.mean_squared_error(y_test, new_forest_pred)))"
   ]
  },
  {
   "cell_type": "markdown",
   "metadata": {},
   "source": [
    "### Residuals\n",
    "\n",
    "Explore the residuals to make sure everything was okay with the data. \n",
    "\n",
    "**Plot a histogram of the residuals and make sure it looks normally distributed.**"
   ]
  },
  {
   "cell_type": "code",
   "execution_count": 32,
   "metadata": {},
   "outputs": [
    {
     "data": {
      "text/plain": [
       "(0, 30)"
      ]
     },
     "execution_count": 32,
     "metadata": {},
     "output_type": "execute_result"
    },
    {
     "data": {
      "image/png": "[encoded data removed]",
      "text/plain": [
       "<Figure size 1296x576 with 1 Axes>"
      ]
     },
     "metadata": {},
     "output_type": "display_data"
    }
   ],
   "source": [
    "plt.figure(figsize=(18,8))\n",
    "sns.distplot((y_test-new_forest_pred),bins=1000);\n",
    "plt.xlim(-0.2,0.2)\n",
    "plt.ylim(0,30)"
   ]
  },
  {
   "cell_type": "markdown",
   "metadata": {},
   "source": [
    "The table shown is the results of Random Forest:\n",
    "\n",
    "| Models                 | Random Forest |\n",
    "|------------------------|---------------|\n",
    "|CV Train RMSE:          | 0.0741        |\n",
    "|Prediction RMSE:        | 0.0320        |"
   ]
  },
  {
   "cell_type": "markdown",
   "metadata": {},
   "source": [
    "___"
   ]
  },
  {
   "cell_type": "markdown",
   "metadata": {},
   "source": [
    "## eXtreme Gradient Boost - XGBoost model\n",
    "\n",
    "### Train the XGBoost model\n",
    "\n",
    "To start, import the XGBoost library and neccessary library. "
   ]
  },
  {
   "cell_type": "code",
   "execution_count": 33,
   "metadata": {},
   "outputs": [],
   "source": [
    "from sklearn import metrics\n",
    "import xgboost as xgb\n",
    "from xgboost import XGBRegressor\n",
    "from sklearn.model_selection import cross_val_score"
   ]
  },
  {
   "cell_type": "markdown",
   "metadata": {},
   "source": [
    "### The best parameters from tuning are:\n",
    "* gamma = 0\n",
    "* min_child_weight = 5\n",
    "* max_depth = 60\n",
    "* subsample = 0.6\n",
    "* colsample_bytree = 0.8\n",
    "* learning_rate = 0.1\n",
    "* n_estimators = 200\n",
    "* reg_alpha = 0.2\n"
   ]
  },
  {
   "cell_type": "code",
   "execution_count": 34,
   "metadata": {},
   "outputs": [],
   "source": [
    "xgb9 = XGBRegressor(booster='gbtree',\n",
    "                    objective= 'reg:linear',\n",
    "                    eval_metric='rmse',\n",
    "                    gamma = 0,\n",
    "                    min_child_weight= 5,\n",
    "                    max_depth= 60,\n",
    "                    subsample= 0.6,\n",
    "                    colsample_bytree= 0.8,\n",
    "                    tree_method= 'exact',\n",
    "                    learning_rate=0.1,\n",
    "                    n_estimators=200,\n",
    "                    #nthread=4,\n",
    "                    n_jobs=-1,\n",
    "                    scale_pos_weight=1,\n",
    "                    reg_alpha=0.2,                           \n",
    "                    seed=27)"
   ]
  },
  {
   "cell_type": "code",
   "execution_count": 35,
   "metadata": {},
   "outputs": [
    {
     "data": {
      "text/plain": [
       "XGBRegressor(base_score=0.5, booster='gbtree', colsample_bylevel=1,\n",
       "       colsample_bytree=0.8, eval_metric='rmse', gamma=0,\n",
       "       learning_rate=0.1, max_delta_step=0, max_depth=60,\n",
       "       min_child_weight=5, missing=None, n_estimators=200, n_jobs=-1,\n",
       "       nthread=None, objective='reg:linear', random_state=0, reg_alpha=0.2,\n",
       "       reg_lambda=1, scale_pos_weight=1, seed=27, silent=True,\n",
       "       subsample=0.6, tree_method='exact')"
      ]
     },
     "execution_count": 35,
     "metadata": {},
     "output_type": "execute_result"
    }
   ],
   "source": [
    "xgb9.fit(X_train,y_train)"
   ]
  },
  {
   "cell_type": "markdown",
   "metadata": {},
   "source": [
    "### Cross Validation for new optimum parameter of XGBoost model\n",
    "This is to test performance and overfitting using k-fold validation; here we take 10 folds, cv = 10."
   ]
  },
  {
   "cell_type": "code",
   "execution_count": 14,
   "metadata": {
    "collapsed": true
   },
   "outputs": [
    {
     "name": "stdout",
     "output_type": "stream",
     "text": [
      "Scores for k=10 fold validation: [-0.00170116 -0.00169112 -0.00170516 -0.00169    -0.00171038 -0.00171042\n",
      " -0.00170086 -0.00168206 -0.00171377 -0.00174906]\n",
      "Train MSE: -0.0017 (+/- 0.0000)\n",
      "Train RMSE: 0.0413\n"
     ]
    }
   ],
   "source": [
    "scores_xgb = cross_val_score(xgb9, X_train, y_train, cv=10, scoring='neg_mean_squared_error')"
   ]
  },
  {
   "cell_type": "code",
   "execution_count": 17,
   "metadata": {},
   "outputs": [
    {
     "name": "stdout",
     "output_type": "stream",
     "text": [
      "Scores for k=10 fold validation: [-0.00170116 -0.00169112 -0.00170516 -0.00169    -0.00171038 -0.00171042\n",
      " -0.00170086 -0.00168206 -0.00171377 -0.00174906]\n",
      "Train MSE: -0.001705 (+/- 0.000035)\n",
      "Train RMSE: 0.041296\n"
     ]
    }
   ],
   "source": [
    "print('Scores for k=10 fold validation:',scores_xgb)\n",
    "print(\"Train MSE: %0.6f (+/- %0.6f)\" % (scores_xgb.mean(), scores_xgb.std() * 2))\n",
    "print(\"Train RMSE: %0.6f\" % math.sqrt(-(scores_xgb.mean())))"
   ]
  },
  {
   "cell_type": "markdown",
   "metadata": {},
   "source": [
    "### Prediction for test dataset"
   ]
  },
  {
   "cell_type": "code",
   "execution_count": 60,
   "metadata": {},
   "outputs": [
    {
     "name": "stdout",
     "output_type": "stream",
     "text": [
      "Prediction Score: 0.934022\n"
     ]
    }
   ],
   "source": [
    "xgb9_score = xgb9.score(X_test, y_test)\n",
    "print(\"Prediction Score: %0.6f\" % xgb9_score)"
   ]
  },
  {
   "cell_type": "code",
   "execution_count": 61,
   "metadata": {},
   "outputs": [
    {
     "name": "stdout",
     "output_type": "stream",
     "text": [
      "Test MAE: 0.026627274867198056\n",
      "Test MSE: 0.0016815251767656482\n",
      "Test RMSE: 0.04100640409455148\n"
     ]
    }
   ],
   "source": [
    "# Predicting a rgb result\n",
    "xgb9_pred = xgb9.predict(X_test)\n",
    "from sklearn import metrics\n",
    "print('Test MAE:', metrics.mean_absolute_error(y_test, xgb9_pred))\n",
    "print('Test MSE:', metrics.mean_squared_error(y_test, xgb9_pred))\n",
    "print('Test RMSE:', np.sqrt(metrics.mean_squared_error(y_test, xgb9_pred)))"
   ]
  },
  {
   "cell_type": "markdown",
   "metadata": {},
   "source": [
    "The cross validation of test RMSE value is close to train RMSE.\n",
    "\n",
    "| Models                 | Random Forest | **XGBoost** |\n",
    "|------------------------|---------------|-------------|\n",
    "|CV Train RMSE:          | 0.0741        | **0.0413**  |\n",
    "|Prediction RMSE:        | 0.0320        | **0.0410**  |\n"
   ]
  },
  {
   "cell_type": "markdown",
   "metadata": {},
   "source": [
    "### Residuals\n",
    "\n",
    "Explore the residuals to make sure everything was okay with the data. \n",
    "\n",
    "**Plot a histogram of the residuals and make sure it looks normally distributed.**"
   ]
  },
  {
   "cell_type": "code",
   "execution_count": 62,
   "metadata": {},
   "outputs": [
    {
     "data": {
      "text/plain": [
       "(0, 30)"
      ]
     },
     "execution_count": 62,
     "metadata": {},
     "output_type": "execute_result"
    },
    {
     "data": {
      "image/png": "[encoded data removed]",
      "text/plain": [
       "<Figure size 1296x576 with 1 Axes>"
      ]
     },
     "metadata": {},
     "output_type": "display_data"
    }
   ],
   "source": [
    "plt.figure(figsize=(18,8))\n",
    "sns.distplot((y_test-xgb9_pred),bins=1000);\n",
    "plt.xlim(-0.2,0.2)\n",
    "plt.ylim(0,30)"
   ]
  },
  {
   "cell_type": "markdown",
   "metadata": {},
   "source": [
    "### Visualize the features importance\n",
    "There are features included: \n",
    "1. time, f0\n",
    "2. day, f1\n",
    "3. latitude, f2\n",
    "4. longtude, f3\n",
    "\n",
    "The result shows **time is the most important feature**."
   ]
  },
  {
   "cell_type": "code",
   "execution_count": 73,
   "metadata": {},
   "outputs": [
    {
     "name": "stdout",
     "output_type": "stream",
     "text": [
      "[0.3347544  0.23391248 0.23597266 0.19536044]\n"
     ]
    }
   ],
   "source": [
    "print(xgb9.feature_importances_)"
   ]
  },
  {
   "cell_type": "code",
   "execution_count": 87,
   "metadata": {
    "scrolled": false
   },
   "outputs": [
    {
     "data": {
      "image/png": "[encoded data removed]",
      "text/plain": [
       "<Figure size 720x576 with 1 Axes>"
      ]
     },
     "metadata": {},
     "output_type": "display_data"
    }
   ],
   "source": [
    "fig, ax = plt.subplots(1,1, figsize=(10,8))\n",
    "xgb.plot_importance(xgb9, height=0.5, ax=ax)\n",
    "plt.show()"
   ]
  },
  {
   "cell_type": "markdown",
   "metadata": {},
   "source": [
    "___"
   ]
  },
  {
   "cell_type": "markdown",
   "metadata": {},
   "source": [
    "## Test with Hold out day 61 test data"
   ]
  },
  {
   "cell_type": "code",
   "execution_count": 36,
   "metadata": {},
   "outputs": [],
   "source": [
    "holdout = pd.read_csv('holdout.csv')"
   ]
  },
  {
   "cell_type": "code",
   "execution_count": 37,
   "metadata": {},
   "outputs": [],
   "source": [
    "# extract hour and minute from timestamp column\n",
    "holdout[['hour','min']] = holdout['timestamp'].str.split(':',expand=True).astype('int64')\n",
    "holdout['time'] = holdout['hour']+(holdout['min']/60.0)"
   ]
  },
  {
   "cell_type": "code",
   "execution_count": 38,
   "metadata": {},
   "outputs": [],
   "source": [
    "# Decode geohash6\n",
    "holdout['coordinate'] = holdout.geohash6.apply(lambda c: geohash.decode(c))\n",
    "holdout['coordinate'].tolist()\n",
    "holdout[['latitude', 'longitude']] = pd.DataFrame(holdout['coordinate'].tolist(), index=holdout.index)"
   ]
  },
  {
   "cell_type": "code",
   "execution_count": 39,
   "metadata": {},
   "outputs": [],
   "source": [
    "Xh_test = holdout[['time','day','latitude','longitude']].values\n",
    "yh_test = holdout['demand'].values"
   ]
  },
  {
   "cell_type": "markdown",
   "metadata": {},
   "source": [
    "### Random Forest model"
   ]
  },
  {
   "cell_type": "code",
   "execution_count": 40,
   "metadata": {},
   "outputs": [
    {
     "name": "stdout",
     "output_type": "stream",
     "text": [
      "0.8000861202151122\n"
     ]
    }
   ],
   "source": [
    "# Predicting a random forest result\n",
    "h_forest_pred = new_forest.predict(Xh_test)\n",
    "h_forest_score = new_forest.score(Xh_test, yh_test)\n",
    "print(h_forest_score)"
   ]
  },
  {
   "cell_type": "code",
   "execution_count": 41,
   "metadata": {},
   "outputs": [
    {
     "name": "stdout",
     "output_type": "stream",
     "text": [
      "MAE: 0.04067192885029519\n",
      "MSE: 0.0053586756215718\n",
      "RMSE: 0.07320297549670915\n"
     ]
    }
   ],
   "source": [
    "# calculate forest MAE, MSE, RMSE!\n",
    "from sklearn import metrics\n",
    "print('MAE:', metrics.mean_absolute_error(yh_test, h_forest_pred))\n",
    "print('MSE:', metrics.mean_squared_error(yh_test, h_forest_pred))\n",
    "print('RMSE:', np.sqrt(metrics.mean_squared_error(yh_test, h_forest_pred)))"
   ]
  },
  {
   "cell_type": "markdown",
   "metadata": {},
   "source": [
    "### XGBoost model"
   ]
  },
  {
   "cell_type": "code",
   "execution_count": 42,
   "metadata": {},
   "outputs": [
    {
     "name": "stdout",
     "output_type": "stream",
     "text": [
      "Prediction Score: 0.821407\n"
     ]
    }
   ],
   "source": [
    "h_xgb9_score = xgb9.score(Xh_test, yh_test)\n",
    "print(\"Prediction Score: %0.6f\" % h_xgb9_score)"
   ]
  },
  {
   "cell_type": "code",
   "execution_count": 44,
   "metadata": {},
   "outputs": [
    {
     "name": "stdout",
     "output_type": "stream",
     "text": [
      "Test MAE: 0.04067170163242839\n",
      "Test MSE: 0.004787179211580814\n",
      "Test RMSE: 0.06918944436531352\n"
     ]
    }
   ],
   "source": [
    "# Predicting a rgb result\n",
    "h_xgb9_pred = xgb9.predict(Xh_test)\n",
    "from sklearn import metrics\n",
    "print('Test MAE:', metrics.mean_absolute_error(yh_test, h_xgb9_pred))\n",
    "print('Test MSE:', metrics.mean_squared_error(yh_test, h_xgb9_pred))\n",
    "print('Test RMSE:', np.sqrt(metrics.mean_squared_error(yh_test, h_xgb9_pred)))"
   ]
  },
  {
   "cell_type": "markdown",
   "metadata": {},
   "source": [
    "___"
   ]
  }
 ],
 "metadata": {
  "kernelspec": {
   "display_name": "Python 3",
   "language": "python",
   "name": "python3"
  },
  "language_info": {
   "codemirror_mode": {
    "name": "ipython",
    "version": 3
   },
   "file_extension": ".py",
   "mimetype": "text/x-python",
   "name": "python",
   "nbconvert_exporter": "python",
   "pygments_lexer": "ipython3",
   "version": "3.6.8"
  }
 },
 "nbformat": 4,
 "nbformat_minor": 2
}
