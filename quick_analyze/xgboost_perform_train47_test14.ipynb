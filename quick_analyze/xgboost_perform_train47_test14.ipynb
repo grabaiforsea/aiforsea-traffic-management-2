{
 "cells": [
  {
   "cell_type": "markdown",
   "metadata": {},
   "source": [
    "# Perform XGBoost"
   ]
  },
  {
   "cell_type": "markdown",
   "metadata": {},
   "source": [
    "___"
   ]
  },
  {
   "cell_type": "markdown",
   "metadata": {},
   "source": [
    "# Import library and Data Setup\n",
    "Import necessary library\n",
    "\n",
    "**Setup the training data and testing data set**\n",
    "\n",
    "The train.csv and test.csv were split using [export_train_test_set.ipynb](https://github.com/cmxteng/aiforsea-traffic-management/blob/master/export_train_test_set.ipynb) \n",
    "\n",
    "It is split into test dataset (day 48 to day 61) and train dataset (day 1 to day 47)."
   ]
  },
  {
   "cell_type": "code",
   "execution_count": 1,
   "metadata": {},
   "outputs": [],
   "source": [
    "import numpy as np\n",
    "import pandas as pd\n",
    "from matplotlib import pyplot as plt\n",
    "import math\n",
    "from sklearn.model_selection import cross_val_score\n",
    "from sklearn import metrics\n",
    "from sklearn.model_selection import GridSearchCV\n",
    "\n",
    "%matplotlib inline"
   ]
  },
  {
   "cell_type": "code",
   "execution_count": 2,
   "metadata": {},
   "outputs": [],
   "source": [
    "import seaborn as sns\n",
    "sns.set_style('whitegrid')"
   ]
  },
  {
   "cell_type": "markdown",
   "metadata": {},
   "source": [
    "### Get the Data\n",
    "\n",
    "**Read in the training csv file and Hold-out test csv file as a DataFrame called trainset and testset respectively.**"
   ]
  },
  {
   "cell_type": "code",
   "execution_count": 64,
   "metadata": {},
   "outputs": [],
   "source": [
    "trainset = pd.read_csv('train47.csv')"
   ]
  },
  {
   "cell_type": "code",
   "execution_count": 65,
   "metadata": {},
   "outputs": [],
   "source": [
    "testset = pd.read_csv('test14.csv')"
   ]
  },
  {
   "cell_type": "code",
   "execution_count": 66,
   "metadata": {},
   "outputs": [
    {
     "data": {
      "text/html": [
       "<div>\n",
       "<style scoped>\n",
       "    .dataframe tbody tr th:only-of-type {\n",
       "        vertical-align: middle;\n",
       "    }\n",
       "\n",
       "    .dataframe tbody tr th {\n",
       "        vertical-align: top;\n",
       "    }\n",
       "\n",
       "    .dataframe thead th {\n",
       "        text-align: right;\n",
       "    }\n",
       "</style>\n",
       "<table border=\"1\" class=\"dataframe\">\n",
       "  <thead>\n",
       "    <tr style=\"text-align: right;\">\n",
       "      <th></th>\n",
       "      <th>geohash6</th>\n",
       "      <th>day</th>\n",
       "      <th>timestamp</th>\n",
       "      <th>demand</th>\n",
       "    </tr>\n",
       "  </thead>\n",
       "  <tbody>\n",
       "    <tr>\n",
       "      <th>0</th>\n",
       "      <td>qp03wc</td>\n",
       "      <td>18</td>\n",
       "      <td>20:0</td>\n",
       "      <td>0.020072</td>\n",
       "    </tr>\n",
       "    <tr>\n",
       "      <th>1</th>\n",
       "      <td>qp03pn</td>\n",
       "      <td>10</td>\n",
       "      <td>14:30</td>\n",
       "      <td>0.024721</td>\n",
       "    </tr>\n",
       "    <tr>\n",
       "      <th>2</th>\n",
       "      <td>qp09sw</td>\n",
       "      <td>9</td>\n",
       "      <td>6:15</td>\n",
       "      <td>0.102821</td>\n",
       "    </tr>\n",
       "    <tr>\n",
       "      <th>3</th>\n",
       "      <td>qp0991</td>\n",
       "      <td>32</td>\n",
       "      <td>5:0</td>\n",
       "      <td>0.088755</td>\n",
       "    </tr>\n",
       "    <tr>\n",
       "      <th>4</th>\n",
       "      <td>qp090q</td>\n",
       "      <td>15</td>\n",
       "      <td>4:0</td>\n",
       "      <td>0.074468</td>\n",
       "    </tr>\n",
       "  </tbody>\n",
       "</table>\n",
       "</div>"
      ],
      "text/plain": [
       "  geohash6  day timestamp    demand\n",
       "0   qp03wc   18      20:0  0.020072\n",
       "1   qp03pn   10     14:30  0.024721\n",
       "2   qp09sw    9      6:15  0.102821\n",
       "3   qp0991   32       5:0  0.088755\n",
       "4   qp090q   15       4:0  0.074468"
      ]
     },
     "execution_count": 66,
     "metadata": {},
     "output_type": "execute_result"
    }
   ],
   "source": [
    "trainset.head()"
   ]
  },
  {
   "cell_type": "code",
   "execution_count": 67,
   "metadata": {},
   "outputs": [
    {
     "data": {
      "text/html": [
       "<div>\n",
       "<style scoped>\n",
       "    .dataframe tbody tr th:only-of-type {\n",
       "        vertical-align: middle;\n",
       "    }\n",
       "\n",
       "    .dataframe tbody tr th {\n",
       "        vertical-align: top;\n",
       "    }\n",
       "\n",
       "    .dataframe thead th {\n",
       "        text-align: right;\n",
       "    }\n",
       "</style>\n",
       "<table border=\"1\" class=\"dataframe\">\n",
       "  <thead>\n",
       "    <tr style=\"text-align: right;\">\n",
       "      <th></th>\n",
       "      <th>geohash6</th>\n",
       "      <th>day</th>\n",
       "      <th>timestamp</th>\n",
       "      <th>demand</th>\n",
       "    </tr>\n",
       "  </thead>\n",
       "  <tbody>\n",
       "    <tr>\n",
       "      <th>0</th>\n",
       "      <td>qp03nr</td>\n",
       "      <td>51</td>\n",
       "      <td>20:45</td>\n",
       "      <td>0.000293</td>\n",
       "    </tr>\n",
       "    <tr>\n",
       "      <th>1</th>\n",
       "      <td>qp093r</td>\n",
       "      <td>48</td>\n",
       "      <td>6:15</td>\n",
       "      <td>0.054170</td>\n",
       "    </tr>\n",
       "    <tr>\n",
       "      <th>2</th>\n",
       "      <td>qp03rp</td>\n",
       "      <td>52</td>\n",
       "      <td>11:45</td>\n",
       "      <td>0.359406</td>\n",
       "    </tr>\n",
       "    <tr>\n",
       "      <th>3</th>\n",
       "      <td>qp03mf</td>\n",
       "      <td>48</td>\n",
       "      <td>11:30</td>\n",
       "      <td>0.057255</td>\n",
       "    </tr>\n",
       "    <tr>\n",
       "      <th>4</th>\n",
       "      <td>qp091w</td>\n",
       "      <td>56</td>\n",
       "      <td>10:0</td>\n",
       "      <td>0.008772</td>\n",
       "    </tr>\n",
       "  </tbody>\n",
       "</table>\n",
       "</div>"
      ],
      "text/plain": [
       "  geohash6  day timestamp    demand\n",
       "0   qp03nr   51     20:45  0.000293\n",
       "1   qp093r   48      6:15  0.054170\n",
       "2   qp03rp   52     11:45  0.359406\n",
       "3   qp03mf   48     11:30  0.057255\n",
       "4   qp091w   56      10:0  0.008772"
      ]
     },
     "execution_count": 67,
     "metadata": {},
     "output_type": "execute_result"
    }
   ],
   "source": [
    "testset.head()"
   ]
  },
  {
   "cell_type": "code",
   "execution_count": 68,
   "metadata": {},
   "outputs": [
    {
     "name": "stdout",
     "output_type": "stream",
     "text": [
      "<class 'pandas.core.frame.DataFrame'>\n",
      "RangeIndex: 3213492 entries, 0 to 3213491\n",
      "Data columns (total 4 columns):\n",
      "geohash6     object\n",
      "day          int64\n",
      "timestamp    object\n",
      "demand       float64\n",
      "dtypes: float64(1), int64(1), object(2)\n",
      "memory usage: 98.1+ MB\n"
     ]
    }
   ],
   "source": [
    "trainset.info()"
   ]
  },
  {
   "cell_type": "code",
   "execution_count": 69,
   "metadata": {},
   "outputs": [
    {
     "name": "stdout",
     "output_type": "stream",
     "text": [
      "<class 'pandas.core.frame.DataFrame'>\n",
      "RangeIndex: 992829 entries, 0 to 992828\n",
      "Data columns (total 4 columns):\n",
      "geohash6     992829 non-null object\n",
      "day          992829 non-null int64\n",
      "timestamp    992829 non-null object\n",
      "demand       992829 non-null float64\n",
      "dtypes: float64(1), int64(1), object(2)\n",
      "memory usage: 30.3+ MB\n"
     ]
    }
   ],
   "source": [
    "testset.info()"
   ]
  },
  {
   "cell_type": "markdown",
   "metadata": {},
   "source": [
    "### Convert timestamp to time (in hour format) in float\n",
    "* 15 minute: 0.25 hour\n",
    "* 30 minute: 0.50 hour\n",
    "* 45 minute: 0.75 hour"
   ]
  },
  {
   "cell_type": "code",
   "execution_count": 70,
   "metadata": {},
   "outputs": [],
   "source": [
    "# extract hour and minute from timestamp column for trainset\n",
    "trainset[['hour','min']] = trainset['timestamp'].str.split(':',expand=True).astype('int64')\n",
    "trainset['time'] = trainset['hour']+(trainset['min']/60.0)"
   ]
  },
  {
   "cell_type": "code",
   "execution_count": 71,
   "metadata": {},
   "outputs": [],
   "source": [
    "# extract hour and minute from timestamp column for testset\n",
    "testset[['hour','min']] = testset['timestamp'].str.split(':',expand=True).astype('int64')\n",
    "testset['time'] = testset['hour']+(testset['min']/60.0)"
   ]
  },
  {
   "cell_type": "markdown",
   "metadata": {},
   "source": [
    "### Decode Geohash6"
   ]
  },
  {
   "cell_type": "code",
   "execution_count": 72,
   "metadata": {},
   "outputs": [],
   "source": [
    "import geohash"
   ]
  },
  {
   "cell_type": "code",
   "execution_count": 73,
   "metadata": {},
   "outputs": [],
   "source": [
    "trainset['coordinate'] = trainset.geohash6.apply(lambda c: geohash.decode(c))\n",
    "\n",
    "trainset['coordinate'].tolist()\n",
    "trainset[['latitude', 'longitude']] = pd.DataFrame(trainset['coordinate'].tolist(), index=trainset.index)"
   ]
  },
  {
   "cell_type": "code",
   "execution_count": 74,
   "metadata": {},
   "outputs": [],
   "source": [
    "testset['coordinate'] = testset.geohash6.apply(lambda c: geohash.decode(c))\n",
    "\n",
    "testset['coordinate'].tolist()\n",
    "testset[['latitude', 'longitude']] = pd.DataFrame(testset['coordinate'].tolist(), index=testset.index)"
   ]
  },
  {
   "cell_type": "markdown",
   "metadata": {},
   "source": [
    "## Setting up the Train Test Data\n",
    "\n",
    "**Get data ready for the regression models.**\n",
    "\n",
    "\n",
    "Check data info again"
   ]
  },
  {
   "cell_type": "code",
   "execution_count": 75,
   "metadata": {},
   "outputs": [],
   "source": [
    "X_train = trainset[['time','day','latitude','longitude']].values\n",
    "y_train = trainset['demand'].values"
   ]
  },
  {
   "cell_type": "code",
   "execution_count": 76,
   "metadata": {},
   "outputs": [],
   "source": [
    "X_test = testset[['time','day','latitude','longitude']].values\n",
    "y_test = testset['demand'].values"
   ]
  },
  {
   "cell_type": "code",
   "execution_count": 77,
   "metadata": {},
   "outputs": [
    {
     "name": "stdout",
     "output_type": "stream",
     "text": [
      "(3213492, 4)\n",
      "(3213492,)\n"
     ]
    }
   ],
   "source": [
    "print(X_train.shape)\n",
    "print(y_train.shape)"
   ]
  },
  {
   "cell_type": "code",
   "execution_count": 78,
   "metadata": {},
   "outputs": [
    {
     "name": "stdout",
     "output_type": "stream",
     "text": [
      "(992829, 4)\n",
      "(992829,)\n"
     ]
    }
   ],
   "source": [
    "print(X_test.shape)\n",
    "print(y_test.shape)"
   ]
  },
  {
   "cell_type": "markdown",
   "metadata": {},
   "source": [
    "___"
   ]
  },
  {
   "cell_type": "markdown",
   "metadata": {},
   "source": [
    "## eXtreme Gradient Boost - XGBoost model\n",
    "\n",
    "### Train the XGBoost model\n",
    "\n",
    "To start, import the XGBoost library and neccessary library. "
   ]
  },
  {
   "cell_type": "code",
   "execution_count": 17,
   "metadata": {},
   "outputs": [],
   "source": [
    "from sklearn import metrics\n",
    "import xgboost as xgb\n",
    "from xgboost import XGBRegressor\n",
    "from sklearn.model_selection import cross_val_score"
   ]
  },
  {
   "cell_type": "markdown",
   "metadata": {},
   "source": [
    "### The best parameters from tuning are:\n",
    "* gamma = 0\n",
    "* min_child_weight = 5\n",
    "* max_depth = 60\n",
    "* subsample = 0.6\n",
    "* colsample_bytree = 0.8\n",
    "* learning_rate = 0.1\n",
    "* n_estimators = 200\n",
    "* reg_alpha = 0.2\n"
   ]
  },
  {
   "cell_type": "code",
   "execution_count": 18,
   "metadata": {},
   "outputs": [],
   "source": [
    "xgb9 = XGBRegressor(booster='gbtree',\n",
    "                    objective= 'reg:linear',\n",
    "                    eval_metric='rmse',\n",
    "                    gamma = 0,\n",
    "                    min_child_weight= 5,\n",
    "                    max_depth= 60,\n",
    "                    subsample= 0.6,\n",
    "                    colsample_bytree= 0.8,\n",
    "                    tree_method= 'exact',\n",
    "                    learning_rate=0.1,\n",
    "                    n_estimators=200,\n",
    "                    #nthread=4,\n",
    "                    n_jobs=-1,\n",
    "                    scale_pos_weight=1,\n",
    "                    reg_alpha=0.2,                           \n",
    "                    seed=27)"
   ]
  },
  {
   "cell_type": "code",
   "execution_count": 79,
   "metadata": {},
   "outputs": [
    {
     "data": {
      "text/plain": [
       "XGBRegressor(base_score=0.5, booster='gbtree', colsample_bylevel=1,\n",
       "       colsample_bytree=0.8, eval_metric='rmse', gamma=0,\n",
       "       learning_rate=0.1, max_delta_step=0, max_depth=60,\n",
       "       min_child_weight=5, missing=None, n_estimators=200, n_jobs=-1,\n",
       "       nthread=None, objective='reg:linear', random_state=0, reg_alpha=0.2,\n",
       "       reg_lambda=1, scale_pos_weight=1, seed=27, silent=True,\n",
       "       subsample=0.6, tree_method='exact')"
      ]
     },
     "execution_count": 79,
     "metadata": {},
     "output_type": "execute_result"
    }
   ],
   "source": [
    "xgb9.fit(X_train,y_train)"
   ]
  },
  {
   "cell_type": "markdown",
   "metadata": {},
   "source": [
    "### Cross Validation for new optimum parameter of XGBoost model\n",
    "This is to test performance and overfitting using k-fold validation; here we take 10 folds, cv = 10."
   ]
  },
  {
   "cell_type": "code",
   "execution_count": 82,
   "metadata": {},
   "outputs": [],
   "source": [
    "scores_xgb = cross_val_score(xgb9, X_train, y_train, cv=10, scoring='neg_mean_squared_error')"
   ]
  },
  {
   "cell_type": "code",
   "execution_count": 85,
   "metadata": {},
   "outputs": [
    {
     "name": "stdout",
     "output_type": "stream",
     "text": [
      "Scores for k=10 fold validation: [-0.00162364 -0.00162825 -0.00161762 -0.00161994 -0.00163636 -0.0016164\n",
      " -0.00161113 -0.0016307  -0.00160542 -0.00162237]\n",
      "Train MSE: -0.001621 (+/- 0.000017)\n",
      "Train RMSE: 0.040264\n"
     ]
    }
   ],
   "source": [
    "print('Scores for k=10 fold validation:',scores_xgb)\n",
    "print(\"Train MSE: %0.6f (+/- %0.6f)\" % (scores_xgb.mean(), scores_xgb.std() * 2))\n",
    "print(\"Train RMSE: %0.6f\" % math.sqrt(-(scores_xgb.mean())))"
   ]
  },
  {
   "cell_type": "markdown",
   "metadata": {},
   "source": [
    "### Prediction for test dataset"
   ]
  },
  {
   "cell_type": "code",
   "execution_count": 80,
   "metadata": {},
   "outputs": [
    {
     "name": "stdout",
     "output_type": "stream",
     "text": [
      "Prediction Score: 0.772564\n"
     ]
    }
   ],
   "source": [
    "xgb9_score = xgb9.score(X_test, y_test)\n",
    "print(\"Prediction Score: %0.6f\" % xgb9_score)"
   ]
  },
  {
   "cell_type": "code",
   "execution_count": 81,
   "metadata": {},
   "outputs": [
    {
     "name": "stdout",
     "output_type": "stream",
     "text": [
      "Test MAE: 0.04616363849202744\n",
      "Test MSE: 0.006378613001421889\n",
      "Test RMSE: 0.07986621940108277\n"
     ]
    }
   ],
   "source": [
    "# Predicting a rgb result\n",
    "xgb9_pred = xgb9.predict(X_test)\n",
    "from sklearn import metrics\n",
    "print('Test MAE:', metrics.mean_absolute_error(y_test, xgb9_pred))\n",
    "print('Test MSE:', metrics.mean_squared_error(y_test, xgb9_pred))\n",
    "print('Test RMSE:', np.sqrt(metrics.mean_squared_error(y_test, xgb9_pred)))"
   ]
  },
  {
   "cell_type": "markdown",
   "metadata": {},
   "source": [
    "The cross validation of test RMSE value is close to train RMSE.\n",
    "\n",
    "| Models                 | XGBoost |\n",
    "|------------------------|---------|\n",
    "|CV Train RMSE:          | 0.0403  |\n",
    "|Prediction RMSE:        | 0.0799  |\n"
   ]
  },
  {
   "cell_type": "markdown",
   "metadata": {},
   "source": [
    "### Residuals\n",
    "\n",
    "Explore the residuals to make sure everything was okay with the data. \n",
    "\n",
    "**Plot a histogram of the residuals and make sure it looks normally distributed.**"
   ]
  },
  {
   "cell_type": "code",
   "execution_count": 63,
   "metadata": {},
   "outputs": [
    {
     "data": {
      "text/plain": [
       "(0, 30)"
      ]
     },
     "execution_count": 63,
     "metadata": {},
     "output_type": "execute_result"
    },
    {
     "data": {
      "image/png": "[encoded data removed]",
      "text/plain": [
       "<Figure size 1296x576 with 1 Axes>"
      ]
     },
     "metadata": {},
     "output_type": "display_data"
    }
   ],
   "source": [
    "plt.figure(figsize=(18,8))\n",
    "sns.distplot((y_test-xgb9_pred),bins=1000);\n",
    "plt.xlim(-0.2,0.2)\n",
    "plt.ylim(0,30)"
   ]
  },
  {
   "cell_type": "markdown",
   "metadata": {},
   "source": [
    "### Visualize the features importance\n",
    "There are features included: \n",
    "1. time, f0\n",
    "2. day, f1\n",
    "3. latitude, f2\n",
    "4. longtude, f3\n",
    "\n",
    "The result shows **time is the most important feature**."
   ]
  },
  {
   "cell_type": "code",
   "execution_count": 21,
   "metadata": {},
   "outputs": [
    {
     "name": "stdout",
     "output_type": "stream",
     "text": [
      "[0.35384938 0.26246685 0.20399931 0.17968445]\n"
     ]
    }
   ],
   "source": [
    "print(xgb9.feature_importances_)"
   ]
  },
  {
   "cell_type": "code",
   "execution_count": 22,
   "metadata": {
    "scrolled": false
   },
   "outputs": [
    {
     "data": {
      "image/png": "[encoded data removed]",
      "text/plain": [
       "<Figure size 720x576 with 1 Axes>"
      ]
     },
     "metadata": {},
     "output_type": "display_data"
    }
   ],
   "source": [
    "fig, ax = plt.subplots(1,1, figsize=(10,8))\n",
    "xgb.plot_importance(xgb9, height=0.5, ax=ax)\n",
    "plt.show()"
   ]
  },
  {
   "cell_type": "markdown",
   "metadata": {},
   "source": [
    "___"
   ]
  }
 ],
 "metadata": {
  "kernelspec": {
   "display_name": "Python 3",
   "language": "python",
   "name": "python3"
  },
  "language_info": {
   "codemirror_mode": {
    "name": "ipython",
    "version": 3
   },
   "file_extension": ".py",
   "mimetype": "text/x-python",
   "name": "python",
   "nbconvert_exporter": "python",
   "pygments_lexer": "ipython3",
   "version": "3.6.8"
  }
 },
 "nbformat": 4,
 "nbformat_minor": 2
}
