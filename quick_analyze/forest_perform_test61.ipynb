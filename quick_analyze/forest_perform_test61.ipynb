{
 "cells": [
  {
   "cell_type": "markdown",
   "metadata": {},
   "source": [
    "# Perform Random Forest Test"
   ]
  },
  {
   "cell_type": "markdown",
   "metadata": {},
   "source": [
    "___"
   ]
  },
  {
   "cell_type": "markdown",
   "metadata": {},
   "source": [
    "# Import library and Data Setup\n",
    "Import necessary library\n",
    "\n",
    "**Setup the training data and testing data set**\n",
    "\n",
    "The train.csv and test.csv were split using [export_train_test_set.ipynb](https://github.com/cmxteng/aiforsea-traffic-management/blob/master/export_train_test_set.ipynb) \n",
    "\n",
    "It is split into test dataset (day 61) and train dataset (first 60 days)."
   ]
  },
  {
   "cell_type": "code",
   "execution_count": 2,
   "metadata": {},
   "outputs": [],
   "source": [
    "import numpy as np\n",
    "import pandas as pd\n",
    "from matplotlib import pyplot as plt\n",
    "import math\n",
    "from sklearn.model_selection import cross_val_score\n",
    "from sklearn import metrics\n",
    "from sklearn.model_selection import GridSearchCV\n",
    "\n",
    "%matplotlib inline"
   ]
  },
  {
   "cell_type": "code",
   "execution_count": 3,
   "metadata": {},
   "outputs": [],
   "source": [
    "import seaborn as sns\n",
    "sns.set_style('whitegrid')"
   ]
  },
  {
   "cell_type": "markdown",
   "metadata": {},
   "source": [
    "### Get the Data\n",
    "\n",
    "**Read in the training csv file and Hold-out test csv file as a DataFrame called trainset and testset respectively.**"
   ]
  },
  {
   "cell_type": "code",
   "execution_count": 4,
   "metadata": {},
   "outputs": [],
   "source": [
    "trainset = pd.read_csv('train60.csv')"
   ]
  },
  {
   "cell_type": "code",
   "execution_count": 5,
   "metadata": {},
   "outputs": [],
   "source": [
    "testset = pd.read_csv('holdout.csv')"
   ]
  },
  {
   "cell_type": "code",
   "execution_count": 25,
   "metadata": {
    "scrolled": true
   },
   "outputs": [
    {
     "data": {
      "text/plain": [
       "geohash6      0\n",
       "day           0\n",
       "timestamp     0\n",
       "demand        0\n",
       "hour          0\n",
       "min           0\n",
       "time          0\n",
       "coordinate    0\n",
       "latitude      0\n",
       "longitude     0\n",
       "dtype: int64"
      ]
     },
     "execution_count": 25,
     "metadata": {},
     "output_type": "execute_result"
    }
   ],
   "source": [
    "trainset[trainset['day']==61].count()"
   ]
  },
  {
   "cell_type": "code",
   "execution_count": 7,
   "metadata": {},
   "outputs": [
    {
     "data": {
      "text/html": [
       "<div>\n",
       "<style scoped>\n",
       "    .dataframe tbody tr th:only-of-type {\n",
       "        vertical-align: middle;\n",
       "    }\n",
       "\n",
       "    .dataframe tbody tr th {\n",
       "        vertical-align: top;\n",
       "    }\n",
       "\n",
       "    .dataframe thead th {\n",
       "        text-align: right;\n",
       "    }\n",
       "</style>\n",
       "<table border=\"1\" class=\"dataframe\">\n",
       "  <thead>\n",
       "    <tr style=\"text-align: right;\">\n",
       "      <th></th>\n",
       "      <th>geohash6</th>\n",
       "      <th>day</th>\n",
       "      <th>timestamp</th>\n",
       "      <th>demand</th>\n",
       "    </tr>\n",
       "  </thead>\n",
       "  <tbody>\n",
       "    <tr>\n",
       "      <th>0</th>\n",
       "      <td>qp03xu</td>\n",
       "      <td>61</td>\n",
       "      <td>5:30</td>\n",
       "      <td>0.252223</td>\n",
       "    </tr>\n",
       "    <tr>\n",
       "      <th>1</th>\n",
       "      <td>qp09hy</td>\n",
       "      <td>61</td>\n",
       "      <td>1:45</td>\n",
       "      <td>0.017997</td>\n",
       "    </tr>\n",
       "    <tr>\n",
       "      <th>2</th>\n",
       "      <td>qp096z</td>\n",
       "      <td>61</td>\n",
       "      <td>14:0</td>\n",
       "      <td>0.917029</td>\n",
       "    </tr>\n",
       "    <tr>\n",
       "      <th>3</th>\n",
       "      <td>qp09vv</td>\n",
       "      <td>61</td>\n",
       "      <td>4:0</td>\n",
       "      <td>0.011494</td>\n",
       "    </tr>\n",
       "    <tr>\n",
       "      <th>4</th>\n",
       "      <td>qp09cw</td>\n",
       "      <td>61</td>\n",
       "      <td>1:0</td>\n",
       "      <td>0.005531</td>\n",
       "    </tr>\n",
       "  </tbody>\n",
       "</table>\n",
       "</div>"
      ],
      "text/plain": [
       "  geohash6  day timestamp    demand\n",
       "0   qp03xu   61      5:30  0.252223\n",
       "1   qp09hy   61      1:45  0.017997\n",
       "2   qp096z   61      14:0  0.917029\n",
       "3   qp09vv   61       4:0  0.011494\n",
       "4   qp09cw   61       1:0  0.005531"
      ]
     },
     "execution_count": 7,
     "metadata": {},
     "output_type": "execute_result"
    }
   ],
   "source": [
    "testset.head()"
   ]
  },
  {
   "cell_type": "code",
   "execution_count": 8,
   "metadata": {},
   "outputs": [
    {
     "name": "stdout",
     "output_type": "stream",
     "text": [
      "<class 'pandas.core.frame.DataFrame'>\n",
      "RangeIndex: 4132706 entries, 0 to 4132705\n",
      "Data columns (total 4 columns):\n",
      "geohash6     object\n",
      "day          int64\n",
      "timestamp    object\n",
      "demand       float64\n",
      "dtypes: float64(1), int64(1), object(2)\n",
      "memory usage: 126.1+ MB\n"
     ]
    }
   ],
   "source": [
    "trainset.info()"
   ]
  },
  {
   "cell_type": "code",
   "execution_count": 9,
   "metadata": {},
   "outputs": [
    {
     "name": "stdout",
     "output_type": "stream",
     "text": [
      "<class 'pandas.core.frame.DataFrame'>\n",
      "RangeIndex: 73615 entries, 0 to 73614\n",
      "Data columns (total 4 columns):\n",
      "geohash6     73615 non-null object\n",
      "day          73615 non-null int64\n",
      "timestamp    73615 non-null object\n",
      "demand       73615 non-null float64\n",
      "dtypes: float64(1), int64(1), object(2)\n",
      "memory usage: 2.2+ MB\n"
     ]
    }
   ],
   "source": [
    "testset.info()"
   ]
  },
  {
   "cell_type": "markdown",
   "metadata": {},
   "source": [
    "### Convert timestamp to time (in hour format) in float\n",
    "* 15 minute: 0.25 hour\n",
    "* 30 minute: 0.50 hour\n",
    "* 45 minute: 0.75 hour"
   ]
  },
  {
   "cell_type": "code",
   "execution_count": 10,
   "metadata": {},
   "outputs": [],
   "source": [
    "# extract hour and minute from timestamp column for trainset\n",
    "trainset[['hour','min']] = trainset['timestamp'].str.split(':',expand=True).astype('int64')\n",
    "trainset['time'] = trainset['hour']+(trainset['min']/60.0)"
   ]
  },
  {
   "cell_type": "code",
   "execution_count": 11,
   "metadata": {},
   "outputs": [],
   "source": [
    "# extract hour and minute from timestamp column for testset\n",
    "testset[['hour','min']] = testset['timestamp'].str.split(':',expand=True).astype('int64')\n",
    "testset['time'] = testset['hour']+(testset['min']/60.0)"
   ]
  },
  {
   "cell_type": "markdown",
   "metadata": {},
   "source": [
    "### Decode Geohash6"
   ]
  },
  {
   "cell_type": "code",
   "execution_count": 12,
   "metadata": {},
   "outputs": [],
   "source": [
    "import geohash"
   ]
  },
  {
   "cell_type": "code",
   "execution_count": 13,
   "metadata": {},
   "outputs": [],
   "source": [
    "trainset['coordinate'] = trainset.geohash6.apply(lambda c: geohash.decode(c))\n",
    "\n",
    "trainset['coordinate'].tolist()\n",
    "trainset[['latitude', 'longitude']] = pd.DataFrame(trainset['coordinate'].tolist(), index=trainset.index)"
   ]
  },
  {
   "cell_type": "code",
   "execution_count": 14,
   "metadata": {},
   "outputs": [],
   "source": [
    "testset['coordinate'] = testset.geohash6.apply(lambda c: geohash.decode(c))\n",
    "\n",
    "testset['coordinate'].tolist()\n",
    "testset[['latitude', 'longitude']] = pd.DataFrame(testset['coordinate'].tolist(), index=testset.index)"
   ]
  },
  {
   "cell_type": "markdown",
   "metadata": {},
   "source": [
    "  "
   ]
  },
  {
   "cell_type": "markdown",
   "metadata": {},
   "source": [
    "___"
   ]
  },
  {
   "cell_type": "markdown",
   "metadata": {},
   "source": [
    "## Setting up the Train Test Data\n",
    "\n",
    "**Get data ready for the regression models.**\n",
    "\n",
    "\n",
    "Check data info again"
   ]
  },
  {
   "cell_type": "code",
   "execution_count": 15,
   "metadata": {},
   "outputs": [],
   "source": [
    "X_train = trainset[['time','day','latitude','longitude']].values\n",
    "y_train = trainset['demand'].values"
   ]
  },
  {
   "cell_type": "code",
   "execution_count": 16,
   "metadata": {},
   "outputs": [],
   "source": [
    "X_test = testset[['time','day','latitude','longitude']].values\n",
    "y_test = testset['demand'].values"
   ]
  },
  {
   "cell_type": "code",
   "execution_count": 17,
   "metadata": {},
   "outputs": [
    {
     "name": "stdout",
     "output_type": "stream",
     "text": [
      "(4132706, 4)\n",
      "(4132706,)\n"
     ]
    }
   ],
   "source": [
    "print(X_train.shape)\n",
    "print(y_train.shape)"
   ]
  },
  {
   "cell_type": "code",
   "execution_count": 18,
   "metadata": {},
   "outputs": [
    {
     "name": "stdout",
     "output_type": "stream",
     "text": [
      "(73615, 4)\n",
      "(73615,)\n"
     ]
    }
   ],
   "source": [
    "print(X_test.shape)\n",
    "print(y_test.shape)"
   ]
  },
  {
   "cell_type": "markdown",
   "metadata": {},
   "source": [
    "___"
   ]
  },
  {
   "cell_type": "markdown",
   "metadata": {},
   "source": [
    "# Random Forest Model"
   ]
  },
  {
   "cell_type": "code",
   "execution_count": 19,
   "metadata": {},
   "outputs": [],
   "source": [
    "from sklearn.ensemble import RandomForestRegressor"
   ]
  },
  {
   "cell_type": "markdown",
   "metadata": {},
   "source": [
    "## New Random Forest Model"
   ]
  },
  {
   "cell_type": "markdown",
   "metadata": {},
   "source": [
    "Set up a new parameter for the new random forest model based on the grid search, **n_estimator =30**, **max_depth = 40** and **min_samples_leaf = 2**."
   ]
  },
  {
   "cell_type": "code",
   "execution_count": 20,
   "metadata": {},
   "outputs": [],
   "source": [
    "new_forest = RandomForestRegressor(n_estimators=30,max_depth=40,min_samples_leaf=2, n_jobs= -1)"
   ]
  },
  {
   "cell_type": "code",
   "execution_count": 21,
   "metadata": {},
   "outputs": [
    {
     "data": {
      "text/plain": [
       "RandomForestRegressor(bootstrap=True, criterion='mse', max_depth=40,\n",
       "           max_features='auto', max_leaf_nodes=None,\n",
       "           min_impurity_decrease=0.0, min_impurity_split=None,\n",
       "           min_samples_leaf=2, min_samples_split=2,\n",
       "           min_weight_fraction_leaf=0.0, n_estimators=30, n_jobs=-1,\n",
       "           oob_score=False, random_state=None, verbose=0, warm_start=False)"
      ]
     },
     "execution_count": 21,
     "metadata": {},
     "output_type": "execute_result"
    }
   ],
   "source": [
    "new_forest.fit(X_train, y_train)"
   ]
  },
  {
   "cell_type": "markdown",
   "metadata": {},
   "source": [
    "### Cross Validation for new Random Forest model"
   ]
  },
  {
   "cell_type": "code",
   "execution_count": 26,
   "metadata": {},
   "outputs": [],
   "source": [
    "from sklearn.model_selection import cross_val_score"
   ]
  },
  {
   "cell_type": "code",
   "execution_count": 16,
   "metadata": {
    "scrolled": true
   },
   "outputs": [],
   "source": [
    "new_scores_rfr = cross_val_score(new_forest, X_train, y_train, cv=10, scoring='explained_variance')"
   ]
  },
  {
   "cell_type": "code",
   "execution_count": 17,
   "metadata": {},
   "outputs": [
    {
     "name": "stdout",
     "output_type": "stream",
     "text": [
      "Scores for k=10 fold validation: [0.95548588 0.95556447 0.95606693 0.95583615 0.95542723 0.95599478\n",
      " 0.95574413 0.95590705 0.95559601 0.95581935]\n",
      "Estimated EV: 0.9557 (+/- 0.0004)\n"
     ]
    }
   ],
   "source": [
    "print('Scores for k=10 fold validation:',new_scores_rfr)\n",
    "print(\"Estimated EV: %0.4f (+/- %0.4f)\" % (new_scores_rfr.mean(), new_scores_rfr.std() * 2))"
   ]
  },
  {
   "cell_type": "code",
   "execution_count": 27,
   "metadata": {},
   "outputs": [],
   "source": [
    "new_rmse_rfr = cross_val_score(new_forest, X_train, y_train, cv=10,scoring='neg_mean_squared_error')"
   ]
  },
  {
   "cell_type": "code",
   "execution_count": 28,
   "metadata": {},
   "outputs": [
    {
     "name": "stdout",
     "output_type": "stream",
     "text": [
      "Scores for k=10 fold validation: [-0.00096701 -0.00098473 -0.00098129 -0.00096521 -0.00097666 -0.00098359\n",
      " -0.00097312 -0.00098794 -0.00097909 -0.00098219]\n",
      "MSE: -0.0010 (+/- 0.0000)\n"
     ]
    }
   ],
   "source": [
    "print('Scores for k=10 fold validation:',new_rmse_rfr)\n",
    "print(\"MSE: %0.4f (+/- %0.4f)\" % (new_rmse_rfr.mean(), new_rmse_rfr.std() * 2))"
   ]
  },
  {
   "cell_type": "code",
   "execution_count": 29,
   "metadata": {},
   "outputs": [
    {
     "data": {
      "text/plain": [
       "0.03127431873335827"
      ]
     },
     "execution_count": 29,
     "metadata": {},
     "output_type": "execute_result"
    }
   ],
   "source": [
    "math.sqrt(-(new_rmse_rfr.mean()))"
   ]
  },
  {
   "cell_type": "markdown",
   "metadata": {},
   "source": [
    "### New Prediction for New Random Forest test dataset"
   ]
  },
  {
   "cell_type": "code",
   "execution_count": 22,
   "metadata": {},
   "outputs": [
    {
     "name": "stdout",
     "output_type": "stream",
     "text": [
      "0.7984469728553067\n"
     ]
    }
   ],
   "source": [
    "# Predicting a random forest result\n",
    "new_forest_pred = new_forest.predict(X_test)\n",
    "new_forest_score = new_forest.score(X_test, y_test)\n",
    "print(new_forest_score)"
   ]
  },
  {
   "cell_type": "code",
   "execution_count": 23,
   "metadata": {
    "scrolled": true
   },
   "outputs": [
    {
     "name": "stdout",
     "output_type": "stream",
     "text": [
      "MAE: 0.04073347148867721\n",
      "MSE: 0.0054026128359693434\n",
      "RMSE: 0.07350246823045702\n"
     ]
    }
   ],
   "source": [
    "# calculate forest MAE, MSE, RMSE!\n",
    "from sklearn import metrics\n",
    "print('MAE:', metrics.mean_absolute_error(y_test, new_forest_pred))\n",
    "print('MSE:', metrics.mean_squared_error(y_test, new_forest_pred))\n",
    "print('RMSE:', np.sqrt(metrics.mean_squared_error(y_test, new_forest_pred)))"
   ]
  },
  {
   "cell_type": "markdown",
   "metadata": {},
   "source": [
    "### Residuals\n",
    "\n",
    "Explore the residuals to make sure everything was okay with the data. \n",
    "\n",
    "**Plot a histogram of the residuals and make sure it looks normally distributed.**"
   ]
  },
  {
   "cell_type": "code",
   "execution_count": 23,
   "metadata": {},
   "outputs": [
    {
     "data": {
      "text/plain": [
       "(0, 30)"
      ]
     },
     "execution_count": 23,
     "metadata": {},
     "output_type": "execute_result"
    },
    {
     "data": {
      "image/png": "[encoded data removed]",
      "text/plain": [
       "<Figure size 1296x576 with 1 Axes>"
      ]
     },
     "metadata": {},
     "output_type": "display_data"
    }
   ],
   "source": [
    "plt.figure(figsize=(18,8))\n",
    "sns.distplot((y_test-new_forest_pred),bins=1000);\n",
    "plt.xlim(-0.2,0.2)\n",
    "plt.ylim(0,30)"
   ]
  },
  {
   "cell_type": "markdown",
   "metadata": {},
   "source": [
    "The table shown is the results for Decision Tree and Random Forest:\n",
    "\n",
    "| New Models             | Random Forest |\n",
    "|------------------------|---------------|\n",
    "|CV Train RMSE:          | 0.0312        |\n",
    "|Prediction RMSE:        | 0.0735        |"
   ]
  },
  {
   "cell_type": "markdown",
   "metadata": {},
   "source": [
    "___"
   ]
  }
 ],
 "metadata": {
  "kernelspec": {
   "display_name": "Python 3",
   "language": "python",
   "name": "python3"
  },
  "language_info": {
   "codemirror_mode": {
    "name": "ipython",
    "version": 3
   },
   "file_extension": ".py",
   "mimetype": "text/x-python",
   "name": "python",
   "nbconvert_exporter": "python",
   "pygments_lexer": "ipython3",
   "version": "3.6.8"
  }
 },
 "nbformat": 4,
 "nbformat_minor": 2
}
