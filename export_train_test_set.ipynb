{
 "cells": [
  {
   "cell_type": "markdown",
   "metadata": {},
   "source": [
    "# Split the training into train, test and hold out test dataset\n",
    "\n",
    "Hold out test dataset is generated for my own hold out dataset to test my model performance. So the training data provided will split into 3 data in csv format and the features to be included as below:\n",
    "\n",
    "* Train and Test dataset are using day 1 to day 60 data.\n",
    "* Hold out dataset is using only day 61 data."
   ]
  },
  {
   "cell_type": "code",
   "execution_count": 1,
   "metadata": {},
   "outputs": [],
   "source": [
    "import numpy as np\n",
    "import pandas as pd"
   ]
  },
  {
   "cell_type": "code",
   "execution_count": 2,
   "metadata": {},
   "outputs": [],
   "source": [
    "traffic = pd.read_csv('training.csv')"
   ]
  },
  {
   "cell_type": "code",
   "execution_count": 3,
   "metadata": {},
   "outputs": [
    {
     "name": "stdout",
     "output_type": "stream",
     "text": [
      "<class 'pandas.core.frame.DataFrame'>\n",
      "RangeIndex: 4206321 entries, 0 to 4206320\n",
      "Data columns (total 4 columns):\n",
      "geohash6     object\n",
      "day          int64\n",
      "timestamp    object\n",
      "demand       float64\n",
      "dtypes: float64(1), int64(1), object(2)\n",
      "memory usage: 128.4+ MB\n"
     ]
    }
   ],
   "source": [
    "traffic.info()"
   ]
  },
  {
   "cell_type": "markdown",
   "metadata": {},
   "source": [
    "## Export my own hold out test dataset for day 61"
   ]
  },
  {
   "cell_type": "code",
   "execution_count": 4,
   "metadata": {},
   "outputs": [
    {
     "data": {
      "text/html": [
       "<div>\n",
       "<style scoped>\n",
       "    .dataframe tbody tr th:only-of-type {\n",
       "        vertical-align: middle;\n",
       "    }\n",
       "\n",
       "    .dataframe tbody tr th {\n",
       "        vertical-align: top;\n",
       "    }\n",
       "\n",
       "    .dataframe thead th {\n",
       "        text-align: right;\n",
       "    }\n",
       "</style>\n",
       "<table border=\"1\" class=\"dataframe\">\n",
       "  <thead>\n",
       "    <tr style=\"text-align: right;\">\n",
       "      <th></th>\n",
       "      <th>geohash6</th>\n",
       "      <th>day</th>\n",
       "      <th>timestamp</th>\n",
       "      <th>demand</th>\n",
       "    </tr>\n",
       "  </thead>\n",
       "  <tbody>\n",
       "    <tr>\n",
       "      <th>77</th>\n",
       "      <td>qp03xu</td>\n",
       "      <td>61</td>\n",
       "      <td>5:30</td>\n",
       "      <td>0.252223</td>\n",
       "    </tr>\n",
       "    <tr>\n",
       "      <th>335</th>\n",
       "      <td>qp09hy</td>\n",
       "      <td>61</td>\n",
       "      <td>1:45</td>\n",
       "      <td>0.017997</td>\n",
       "    </tr>\n",
       "    <tr>\n",
       "      <th>368</th>\n",
       "      <td>qp096z</td>\n",
       "      <td>61</td>\n",
       "      <td>14:0</td>\n",
       "      <td>0.917029</td>\n",
       "    </tr>\n",
       "    <tr>\n",
       "      <th>382</th>\n",
       "      <td>qp09vv</td>\n",
       "      <td>61</td>\n",
       "      <td>4:0</td>\n",
       "      <td>0.011494</td>\n",
       "    </tr>\n",
       "    <tr>\n",
       "      <th>636</th>\n",
       "      <td>qp09cw</td>\n",
       "      <td>61</td>\n",
       "      <td>1:0</td>\n",
       "      <td>0.005531</td>\n",
       "    </tr>\n",
       "  </tbody>\n",
       "</table>\n",
       "</div>"
      ],
      "text/plain": [
       "    geohash6  day timestamp    demand\n",
       "77    qp03xu   61      5:30  0.252223\n",
       "335   qp09hy   61      1:45  0.017997\n",
       "368   qp096z   61      14:0  0.917029\n",
       "382   qp09vv   61       4:0  0.011494\n",
       "636   qp09cw   61       1:0  0.005531"
      ]
     },
     "execution_count": 4,
     "metadata": {},
     "output_type": "execute_result"
    }
   ],
   "source": [
    "traffic_day61 = traffic[traffic['day']==61]\n",
    "traffic_day61.head()"
   ]
  },
  {
   "cell_type": "code",
   "execution_count": 53,
   "metadata": {},
   "outputs": [],
   "source": [
    "export_train_csv = traffic_day61.to_csv(r'C:\\Users\\TENG\\Desktop\\projects\\grab\\holdout.csv', index = None, header=True)"
   ]
  },
  {
   "cell_type": "markdown",
   "metadata": {},
   "source": [
    "## Create the train and test dataset"
   ]
  },
  {
   "cell_type": "code",
   "execution_count": 5,
   "metadata": {},
   "outputs": [],
   "source": [
    "traffic = traffic[traffic['day']!=61]"
   ]
  },
  {
   "cell_type": "code",
   "execution_count": 7,
   "metadata": {},
   "outputs": [],
   "source": [
    "export_train_csv = traffic.to_csv(r'C:\\Users\\tengchm\\Desktop\\DS project\\grab\\complete\\train60.csv', index = None, header=True)"
   ]
  },
  {
   "cell_type": "code",
   "execution_count": 55,
   "metadata": {},
   "outputs": [],
   "source": [
    "X = traffic.iloc[:, :3].values\n",
    "y = traffic.iloc[:, -1:].values"
   ]
  },
  {
   "cell_type": "code",
   "execution_count": 56,
   "metadata": {},
   "outputs": [
    {
     "data": {
      "text/plain": [
       "(4132706, 3)"
      ]
     },
     "execution_count": 56,
     "metadata": {},
     "output_type": "execute_result"
    }
   ],
   "source": [
    "X.shape"
   ]
  },
  {
   "cell_type": "code",
   "execution_count": 57,
   "metadata": {},
   "outputs": [
    {
     "data": {
      "text/plain": [
       "(4132706, 1)"
      ]
     },
     "execution_count": 57,
     "metadata": {},
     "output_type": "execute_result"
    }
   ],
   "source": [
    "y.shape"
   ]
  },
  {
   "cell_type": "code",
   "execution_count": 58,
   "metadata": {},
   "outputs": [],
   "source": [
    "# Splitting the dataset into the Training set and Test set\n",
    "from sklearn.model_selection import train_test_split\n",
    "\n",
    "X_train, X_test, y_train, y_test = train_test_split(X, y, test_size = 0.25, random_state = 101)"
   ]
  },
  {
   "cell_type": "code",
   "execution_count": 59,
   "metadata": {},
   "outputs": [],
   "source": [
    "train_set = np.concatenate((X_train,y_train),axis=1)"
   ]
  },
  {
   "cell_type": "code",
   "execution_count": 60,
   "metadata": {},
   "outputs": [
    {
     "data": {
      "text/plain": [
       "(3099529, 4)"
      ]
     },
     "execution_count": 60,
     "metadata": {},
     "output_type": "execute_result"
    }
   ],
   "source": [
    "train_set.shape"
   ]
  },
  {
   "cell_type": "code",
   "execution_count": 61,
   "metadata": {},
   "outputs": [
    {
     "name": "stdout",
     "output_type": "stream",
     "text": [
      "<class 'pandas.core.frame.DataFrame'>\n",
      "RangeIndex: 3099529 entries, 0 to 3099528\n",
      "Data columns (total 4 columns):\n",
      "0    object\n",
      "1    object\n",
      "2    object\n",
      "3    object\n",
      "dtypes: object(4)\n",
      "memory usage: 94.6+ MB\n"
     ]
    }
   ],
   "source": [
    "train = pd.DataFrame(train_set)\n",
    "train.info()"
   ]
  },
  {
   "cell_type": "code",
   "execution_count": 62,
   "metadata": {},
   "outputs": [
    {
     "data": {
      "text/html": [
       "<div>\n",
       "<style scoped>\n",
       "    .dataframe tbody tr th:only-of-type {\n",
       "        vertical-align: middle;\n",
       "    }\n",
       "\n",
       "    .dataframe tbody tr th {\n",
       "        vertical-align: top;\n",
       "    }\n",
       "\n",
       "    .dataframe thead th {\n",
       "        text-align: right;\n",
       "    }\n",
       "</style>\n",
       "<table border=\"1\" class=\"dataframe\">\n",
       "  <thead>\n",
       "    <tr style=\"text-align: right;\">\n",
       "      <th></th>\n",
       "      <th>geohash6</th>\n",
       "      <th>day</th>\n",
       "      <th>timestamp</th>\n",
       "      <th>demand</th>\n",
       "    </tr>\n",
       "  </thead>\n",
       "  <tbody>\n",
       "    <tr>\n",
       "      <th>0</th>\n",
       "      <td>qp09bw</td>\n",
       "      <td>52</td>\n",
       "      <td>12:15</td>\n",
       "      <td>0.0223766</td>\n",
       "    </tr>\n",
       "    <tr>\n",
       "      <th>1</th>\n",
       "      <td>qp099y</td>\n",
       "      <td>8</td>\n",
       "      <td>10:45</td>\n",
       "      <td>0.0972637</td>\n",
       "    </tr>\n",
       "    <tr>\n",
       "      <th>2</th>\n",
       "      <td>qp03yx</td>\n",
       "      <td>2</td>\n",
       "      <td>0:15</td>\n",
       "      <td>0.0340235</td>\n",
       "    </tr>\n",
       "    <tr>\n",
       "      <th>3</th>\n",
       "      <td>qp091q</td>\n",
       "      <td>7</td>\n",
       "      <td>1:15</td>\n",
       "      <td>0.0188847</td>\n",
       "    </tr>\n",
       "    <tr>\n",
       "      <th>4</th>\n",
       "      <td>qp09gh</td>\n",
       "      <td>23</td>\n",
       "      <td>1:0</td>\n",
       "      <td>0.0511041</td>\n",
       "    </tr>\n",
       "  </tbody>\n",
       "</table>\n",
       "</div>"
      ],
      "text/plain": [
       "  geohash6 day timestamp     demand\n",
       "0   qp09bw  52     12:15  0.0223766\n",
       "1   qp099y   8     10:45  0.0972637\n",
       "2   qp03yx   2      0:15  0.0340235\n",
       "3   qp091q   7      1:15  0.0188847\n",
       "4   qp09gh  23       1:0  0.0511041"
      ]
     },
     "execution_count": 62,
     "metadata": {},
     "output_type": "execute_result"
    }
   ],
   "source": [
    "train.columns = ['geohash6', 'day', 'timestamp', 'demand']\n",
    "train.head()"
   ]
  },
  {
   "cell_type": "markdown",
   "metadata": {},
   "source": [
    "### Export the train data set"
   ]
  },
  {
   "cell_type": "code",
   "execution_count": 63,
   "metadata": {},
   "outputs": [],
   "source": [
    "export_train_csv = train.to_csv(r'C:\\Users\\TENG\\Desktop\\projects\\grab\\train.csv', index = None, header=True)"
   ]
  },
  {
   "cell_type": "markdown",
   "metadata": {},
   "source": [
    "**Check the dataset**"
   ]
  },
  {
   "cell_type": "code",
   "execution_count": 64,
   "metadata": {},
   "outputs": [],
   "source": [
    "train_set = pd.read_csv('train.csv')"
   ]
  },
  {
   "cell_type": "code",
   "execution_count": 65,
   "metadata": {},
   "outputs": [
    {
     "data": {
      "text/html": [
       "<div>\n",
       "<style scoped>\n",
       "    .dataframe tbody tr th:only-of-type {\n",
       "        vertical-align: middle;\n",
       "    }\n",
       "\n",
       "    .dataframe tbody tr th {\n",
       "        vertical-align: top;\n",
       "    }\n",
       "\n",
       "    .dataframe thead th {\n",
       "        text-align: right;\n",
       "    }\n",
       "</style>\n",
       "<table border=\"1\" class=\"dataframe\">\n",
       "  <thead>\n",
       "    <tr style=\"text-align: right;\">\n",
       "      <th></th>\n",
       "      <th>geohash6</th>\n",
       "      <th>day</th>\n",
       "      <th>timestamp</th>\n",
       "      <th>demand</th>\n",
       "    </tr>\n",
       "  </thead>\n",
       "  <tbody>\n",
       "    <tr>\n",
       "      <th>3099524</th>\n",
       "      <td>qp03t7</td>\n",
       "      <td>60</td>\n",
       "      <td>9:45</td>\n",
       "      <td>0.011433</td>\n",
       "    </tr>\n",
       "    <tr>\n",
       "      <th>3099525</th>\n",
       "      <td>qp09sc</td>\n",
       "      <td>60</td>\n",
       "      <td>9:45</td>\n",
       "      <td>0.086302</td>\n",
       "    </tr>\n",
       "    <tr>\n",
       "      <th>3099526</th>\n",
       "      <td>qp09sh</td>\n",
       "      <td>60</td>\n",
       "      <td>9:45</td>\n",
       "      <td>0.222353</td>\n",
       "    </tr>\n",
       "    <tr>\n",
       "      <th>3099527</th>\n",
       "      <td>qp09s2</td>\n",
       "      <td>60</td>\n",
       "      <td>9:45</td>\n",
       "      <td>0.003120</td>\n",
       "    </tr>\n",
       "    <tr>\n",
       "      <th>3099528</th>\n",
       "      <td>qp0995</td>\n",
       "      <td>60</td>\n",
       "      <td>9:45</td>\n",
       "      <td>0.012869</td>\n",
       "    </tr>\n",
       "  </tbody>\n",
       "</table>\n",
       "</div>"
      ],
      "text/plain": [
       "        geohash6  day timestamp    demand\n",
       "3099524   qp03t7   60      9:45  0.011433\n",
       "3099525   qp09sc   60      9:45  0.086302\n",
       "3099526   qp09sh   60      9:45  0.222353\n",
       "3099527   qp09s2   60      9:45  0.003120\n",
       "3099528   qp0995   60      9:45  0.012869"
      ]
     },
     "execution_count": 65,
     "metadata": {},
     "output_type": "execute_result"
    }
   ],
   "source": [
    "train_set = train_set.sort_values(by=['day','timestamp']).reset_index(drop=True)\n",
    "train_set.tail()"
   ]
  },
  {
   "cell_type": "code",
   "execution_count": 66,
   "metadata": {},
   "outputs": [
    {
     "name": "stdout",
     "output_type": "stream",
     "text": [
      "<class 'pandas.core.frame.DataFrame'>\n",
      "RangeIndex: 3099529 entries, 0 to 3099528\n",
      "Data columns (total 4 columns):\n",
      "geohash6     object\n",
      "day          int64\n",
      "timestamp    object\n",
      "demand       float64\n",
      "dtypes: float64(1), int64(1), object(2)\n",
      "memory usage: 94.6+ MB\n"
     ]
    }
   ],
   "source": [
    "train_set.info()"
   ]
  },
  {
   "cell_type": "markdown",
   "metadata": {},
   "source": [
    "### Export Test data set"
   ]
  },
  {
   "cell_type": "code",
   "execution_count": 67,
   "metadata": {},
   "outputs": [],
   "source": [
    "test_set = np.concatenate((X_test,y_test),axis=1)"
   ]
  },
  {
   "cell_type": "code",
   "execution_count": 68,
   "metadata": {},
   "outputs": [
    {
     "data": {
      "text/plain": [
       "(1033177, 4)"
      ]
     },
     "execution_count": 68,
     "metadata": {},
     "output_type": "execute_result"
    }
   ],
   "source": [
    "test_set.shape"
   ]
  },
  {
   "cell_type": "code",
   "execution_count": 69,
   "metadata": {
    "scrolled": true
   },
   "outputs": [
    {
     "name": "stdout",
     "output_type": "stream",
     "text": [
      "<class 'pandas.core.frame.DataFrame'>\n",
      "RangeIndex: 1033177 entries, 0 to 1033176\n",
      "Data columns (total 4 columns):\n",
      "0    1033177 non-null object\n",
      "1    1033177 non-null object\n",
      "2    1033177 non-null object\n",
      "3    1033177 non-null object\n",
      "dtypes: object(4)\n",
      "memory usage: 31.5+ MB\n"
     ]
    }
   ],
   "source": [
    "test = pd.DataFrame(test_set)\n",
    "test.info()"
   ]
  },
  {
   "cell_type": "code",
   "execution_count": 70,
   "metadata": {},
   "outputs": [
    {
     "data": {
      "text/html": [
       "<div>\n",
       "<style scoped>\n",
       "    .dataframe tbody tr th:only-of-type {\n",
       "        vertical-align: middle;\n",
       "    }\n",
       "\n",
       "    .dataframe tbody tr th {\n",
       "        vertical-align: top;\n",
       "    }\n",
       "\n",
       "    .dataframe thead th {\n",
       "        text-align: right;\n",
       "    }\n",
       "</style>\n",
       "<table border=\"1\" class=\"dataframe\">\n",
       "  <thead>\n",
       "    <tr style=\"text-align: right;\">\n",
       "      <th></th>\n",
       "      <th>geohash6</th>\n",
       "      <th>day</th>\n",
       "      <th>timestamp</th>\n",
       "      <th>demand</th>\n",
       "    </tr>\n",
       "  </thead>\n",
       "  <tbody>\n",
       "    <tr>\n",
       "      <th>0</th>\n",
       "      <td>qp09cu</td>\n",
       "      <td>47</td>\n",
       "      <td>9:30</td>\n",
       "      <td>0.0218187</td>\n",
       "    </tr>\n",
       "    <tr>\n",
       "      <th>1</th>\n",
       "      <td>qp03mr</td>\n",
       "      <td>19</td>\n",
       "      <td>1:45</td>\n",
       "      <td>0.00178543</td>\n",
       "    </tr>\n",
       "    <tr>\n",
       "      <th>2</th>\n",
       "      <td>qp09ds</td>\n",
       "      <td>30</td>\n",
       "      <td>7:45</td>\n",
       "      <td>0.00747842</td>\n",
       "    </tr>\n",
       "    <tr>\n",
       "      <th>3</th>\n",
       "      <td>qp093v</td>\n",
       "      <td>37</td>\n",
       "      <td>22:0</td>\n",
       "      <td>0.0136314</td>\n",
       "    </tr>\n",
       "    <tr>\n",
       "      <th>4</th>\n",
       "      <td>qp09b0</td>\n",
       "      <td>50</td>\n",
       "      <td>3:0</td>\n",
       "      <td>0.158475</td>\n",
       "    </tr>\n",
       "  </tbody>\n",
       "</table>\n",
       "</div>"
      ],
      "text/plain": [
       "  geohash6 day timestamp      demand\n",
       "0   qp09cu  47      9:30   0.0218187\n",
       "1   qp03mr  19      1:45  0.00178543\n",
       "2   qp09ds  30      7:45  0.00747842\n",
       "3   qp093v  37      22:0   0.0136314\n",
       "4   qp09b0  50       3:0    0.158475"
      ]
     },
     "execution_count": 70,
     "metadata": {},
     "output_type": "execute_result"
    }
   ],
   "source": [
    "test.columns = ['geohash6', 'day', 'timestamp', 'demand']\n",
    "test.head()"
   ]
  },
  {
   "cell_type": "code",
   "execution_count": 71,
   "metadata": {},
   "outputs": [],
   "source": [
    "export_csv = test.to_csv(r'C:\\Users\\TENG\\Desktop\\projects\\grab\\test.csv', index = None, header=True)"
   ]
  },
  {
   "cell_type": "markdown",
   "metadata": {},
   "source": [
    "**Check the dataset**"
   ]
  },
  {
   "cell_type": "code",
   "execution_count": 72,
   "metadata": {},
   "outputs": [],
   "source": [
    "test_set = pd.read_csv('test.csv')"
   ]
  },
  {
   "cell_type": "code",
   "execution_count": 73,
   "metadata": {},
   "outputs": [
    {
     "data": {
      "text/html": [
       "<div>\n",
       "<style scoped>\n",
       "    .dataframe tbody tr th:only-of-type {\n",
       "        vertical-align: middle;\n",
       "    }\n",
       "\n",
       "    .dataframe tbody tr th {\n",
       "        vertical-align: top;\n",
       "    }\n",
       "\n",
       "    .dataframe thead th {\n",
       "        text-align: right;\n",
       "    }\n",
       "</style>\n",
       "<table border=\"1\" class=\"dataframe\">\n",
       "  <thead>\n",
       "    <tr style=\"text-align: right;\">\n",
       "      <th></th>\n",
       "      <th>geohash6</th>\n",
       "      <th>day</th>\n",
       "      <th>timestamp</th>\n",
       "      <th>demand</th>\n",
       "    </tr>\n",
       "  </thead>\n",
       "  <tbody>\n",
       "    <tr>\n",
       "      <th>1033172</th>\n",
       "      <td>qp0981</td>\n",
       "      <td>60</td>\n",
       "      <td>9:45</td>\n",
       "      <td>0.072970</td>\n",
       "    </tr>\n",
       "    <tr>\n",
       "      <th>1033173</th>\n",
       "      <td>qp094j</td>\n",
       "      <td>60</td>\n",
       "      <td>9:45</td>\n",
       "      <td>0.008918</td>\n",
       "    </tr>\n",
       "    <tr>\n",
       "      <th>1033174</th>\n",
       "      <td>qp0971</td>\n",
       "      <td>60</td>\n",
       "      <td>9:45</td>\n",
       "      <td>0.117143</td>\n",
       "    </tr>\n",
       "    <tr>\n",
       "      <th>1033175</th>\n",
       "      <td>qp09k2</td>\n",
       "      <td>60</td>\n",
       "      <td>9:45</td>\n",
       "      <td>0.268373</td>\n",
       "    </tr>\n",
       "    <tr>\n",
       "      <th>1033176</th>\n",
       "      <td>qp09en</td>\n",
       "      <td>60</td>\n",
       "      <td>9:45</td>\n",
       "      <td>0.042415</td>\n",
       "    </tr>\n",
       "  </tbody>\n",
       "</table>\n",
       "</div>"
      ],
      "text/plain": [
       "        geohash6  day timestamp    demand\n",
       "1033172   qp0981   60      9:45  0.072970\n",
       "1033173   qp094j   60      9:45  0.008918\n",
       "1033174   qp0971   60      9:45  0.117143\n",
       "1033175   qp09k2   60      9:45  0.268373\n",
       "1033176   qp09en   60      9:45  0.042415"
      ]
     },
     "execution_count": 73,
     "metadata": {},
     "output_type": "execute_result"
    }
   ],
   "source": [
    "test_set = test_set.sort_values(by=['day','timestamp']).reset_index(drop=True)\n",
    "test_set.tail()"
   ]
  },
  {
   "cell_type": "code",
   "execution_count": 74,
   "metadata": {},
   "outputs": [
    {
     "name": "stdout",
     "output_type": "stream",
     "text": [
      "<class 'pandas.core.frame.DataFrame'>\n",
      "RangeIndex: 1033177 entries, 0 to 1033176\n",
      "Data columns (total 4 columns):\n",
      "geohash6     1033177 non-null object\n",
      "day          1033177 non-null int64\n",
      "timestamp    1033177 non-null object\n",
      "demand       1033177 non-null float64\n",
      "dtypes: float64(1), int64(1), object(2)\n",
      "memory usage: 31.5+ MB\n"
     ]
    }
   ],
   "source": [
    "test_set.info()"
   ]
  }
 ],
 "metadata": {
  "kernelspec": {
   "display_name": "Python 3",
   "language": "python",
   "name": "python3"
  },
  "language_info": {
   "codemirror_mode": {
    "name": "ipython",
    "version": 3
   },
   "file_extension": ".py",
   "mimetype": "text/x-python",
   "name": "python",
   "nbconvert_exporter": "python",
   "pygments_lexer": "ipython3",
   "version": "3.6.8"
  }
 },
 "nbformat": 4,
 "nbformat_minor": 2
}
